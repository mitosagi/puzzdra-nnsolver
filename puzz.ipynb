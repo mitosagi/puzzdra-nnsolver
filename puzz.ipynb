{
  "nbformat": 4,
  "nbformat_minor": 0,
  "metadata": {
    "colab": {
      "name": "puzz.ipynb",
      "provenance": [],
      "authorship_tag": "ABX9TyPJg/vNDzVBq/mnP82sFJan",
      "include_colab_link": true
    },
    "kernelspec": {
      "name": "python3",
      "display_name": "Python 3"
    },
    "language_info": {
      "name": "python"
    }
  },
  "cells": [
    {
      "cell_type": "markdown",
      "metadata": {
        "id": "view-in-github",
        "colab_type": "text"
      },
      "source": [
        "<a href=\"https://colab.research.google.com/github/mitosagi/puzzdra-nnsolver/blob/master/puzz.ipynb\" target=\"_parent\"><img src=\"https://colab.research.google.com/assets/colab-badge.svg\" alt=\"Open In Colab\"/></a>"
      ]
    },
    {
      "cell_type": "markdown",
      "metadata": {
        "id": "mrk7ju8ZSpq1"
      },
      "source": [
        "## 初期化"
      ]
    },
    {
      "cell_type": "code",
      "metadata": {
        "id": "q-syCb8S5ijR",
        "colab": {
          "base_uri": "https://localhost:8080/"
        },
        "outputId": "5df01686-245e-4a17-90ef-4dcf1ed22d35"
      },
      "source": [
        "from google.colab import drive\n",
        "drive.mount('/content/drive')"
      ],
      "execution_count": 1,
      "outputs": [
        {
          "output_type": "stream",
          "text": [
            "Mounted at /content/drive\n"
          ],
          "name": "stdout"
        }
      ]
    },
    {
      "cell_type": "code",
      "metadata": {
        "id": "MinijqIGMKzp",
        "colab": {
          "base_uri": "https://localhost:8080/"
        },
        "outputId": "be89b8d1-d533-4402-f8de-170ab9d7cab8"
      },
      "source": [
        "!cp -r /content/drive/MyDrive/User/python/puzzdra-nnsolver /content/puzzdra-nnsolver\n",
        "%cd /content/puzzdra-nnsolver\n",
        "!pip install --log=pip_log -e .\n",
        "!python puzz_test.py"
      ],
      "execution_count": 2,
      "outputs": [
        {
          "output_type": "stream",
          "text": [
            "/content/puzzdra-nnsolver\n",
            "Obtaining file:///content/puzzdra-nnsolver\n",
            "Installing collected packages: Puzzpy\n",
            "  Running setup.py develop for Puzzpy\n",
            "Successfully installed Puzzpy\n",
            "365326\n",
            "241332\n",
            "653461\n",
            "225214\n",
            "523426\n",
            "[['\\x03', '\\x06', '\\x05', '\\x02', '\\x03', '\\x06'], ['\\x02', '\\x04', '\\x01', '\\x03', '\\x03', '\\x02'], ['\\x06', '\\x05', '\\x03', '\\x04', '\\x06', '\\x01'], ['\\x02', '\\x02', '\\x05', '\\x02', '\\x01', '\\x04'], ['\\x05', '\\x02', '\\x03', '\\x04', '\\x02', '\\x06']]\n",
            "[['\\x00', '\\x00', '\\x00', '\\x01', '\\x00', '\\x00'], ['\\x00', '\\x00', '\\x00', '\\x00', '\\x00', '\\x00'], ['\\x00', '\\x00', '\\x00', '\\x00', '\\x00', '\\x00'], ['\\x00', '\\x00', '\\x00', '\\x00', '\\x00', '\\x00'], ['\\x00', '\\x00', '\\x00', '\\x00', '\\x00', '\\x00']]\n",
            "[['\\x7f', '\\x06', '\\x05', '\\x03', '\\x02', '\\x06'], ['\\x02', '\\x04', '\\x01', '\\x03', '\\x03', '\\x02'], ['\\x06', '\\x05', '\\x03', '\\x04', '\\x06', '\\x01'], ['\\x02', '\\x02', '\\x05', '\\x02', '\\x01', '\\x04'], ['\\x05', '\\x02', '\\x03', '\\x04', '\\x02', '\\x06']]\n",
            "[['\\x00', '\\x00', '\\x00', '\\x00', '\\x01', '\\x00'], ['\\x00', '\\x00', '\\x00', '\\x00', '\\x00', '\\x00'], ['\\x00', '\\x00', '\\x00', '\\x00', '\\x00', '\\x00'], ['\\x00', '\\x00', '\\x00', '\\x00', '\\x00', '\\x00'], ['\\x00', '\\x00', '\\x00', '\\x00', '\\x00', '\\x00']]\n",
            "[['\\x03', '\\x06', '\\x05', '\\x03', '\\x03', '\\x06'], ['\\x02', '\\x04', '\\x01', '\\x03', '\\x02', '\\x02'], ['\\x06', '\\x05', '\\x03', '\\x04', '\\x06', '\\x01'], ['\\x02', '\\x02', '\\x05', '\\x02', '\\x01', '\\x04'], ['\\x05', '\\x02', '\\x03', '\\x04', '\\x02', '\\x06']]\n",
            "[['\\x00', '\\x00', '\\x00', '\\x00', '\\x00', '\\x00'], ['\\x00', '\\x00', '\\x00', '\\x00', '\\x01', '\\x00'], ['\\x00', '\\x00', '\\x00', '\\x00', '\\x00', '\\x00'], ['\\x00', '\\x00', '\\x00', '\\x00', '\\x00', '\\x00'], ['\\x00', '\\x00', '\\x00', '\\x00', '\\x00', '\\x00']]\n",
            "[['\\x03', '\\x06', '\\x05', '\\x03', '\\x06', '\\x02'], ['\\x02', '\\x04', '\\x01', '\\x03', '\\x03', '\\x02'], ['\\x06', '\\x05', '\\x03', '\\x04', '\\x06', '\\x01'], ['\\x02', '\\x02', '\\x05', '\\x02', '\\x01', '\\x04'], ['\\x05', '\\x02', '\\x03', '\\x04', '\\x02', '\\x06']]\n",
            "[['\\x00', '\\x00', '\\x00', '\\x00', '\\x00', '\\x01'], ['\\x00', '\\x00', '\\x00', '\\x00', '\\x00', '\\x00'], ['\\x00', '\\x00', '\\x00', '\\x00', '\\x00', '\\x00'], ['\\x00', '\\x00', '\\x00', '\\x00', '\\x00', '\\x00'], ['\\x00', '\\x00', '\\x00', '\\x00', '\\x00', '\\x00']]\n",
            "10\n"
          ],
          "name": "stdout"
        }
      ]
    },
    {
      "cell_type": "code",
      "metadata": {
        "colab": {
          "base_uri": "https://localhost:8080/"
        },
        "id": "9-WcmtN0TlOM",
        "outputId": "383dfed7-cb6b-4a7a-b13f-e34c593c0d6a"
      },
      "source": [
        "!pip install stable-baselines3"
      ],
      "execution_count": 3,
      "outputs": [
        {
          "output_type": "stream",
          "text": [
            "Collecting stable-baselines3\n",
            "\u001b[?25l  Downloading https://files.pythonhosted.org/packages/18/d3/6ae6e774ac6cf8f5eeca1c30b9125231db901b75f72da7d81e939f293f69/stable_baselines3-1.0-py3-none-any.whl (152kB)\n",
            "\r\u001b[K     |██▏                             | 10kB 14.1MB/s eta 0:00:01\r\u001b[K     |████▎                           | 20kB 19.5MB/s eta 0:00:01\r\u001b[K     |██████▍                         | 30kB 22.6MB/s eta 0:00:01\r\u001b[K     |████████▋                       | 40kB 18.2MB/s eta 0:00:01\r\u001b[K     |██████████▊                     | 51kB 19.7MB/s eta 0:00:01\r\u001b[K     |████████████▉                   | 61kB 21.9MB/s eta 0:00:01\r\u001b[K     |███████████████                 | 71kB 20.8MB/s eta 0:00:01\r\u001b[K     |█████████████████▏              | 81kB 21.5MB/s eta 0:00:01\r\u001b[K     |███████████████████▎            | 92kB 22.2MB/s eta 0:00:01\r\u001b[K     |█████████████████████▌          | 102kB 23.5MB/s eta 0:00:01\r\u001b[K     |███████████████████████▋        | 112kB 23.5MB/s eta 0:00:01\r\u001b[K     |█████████████████████████▊      | 122kB 23.5MB/s eta 0:00:01\r\u001b[K     |████████████████████████████    | 133kB 23.5MB/s eta 0:00:01\r\u001b[K     |██████████████████████████████  | 143kB 23.5MB/s eta 0:00:01\r\u001b[K     |████████████████████████████████| 153kB 23.5MB/s \n",
            "\u001b[?25hRequirement already satisfied: pandas in /usr/local/lib/python3.7/dist-packages (from stable-baselines3) (1.1.5)\n",
            "Requirement already satisfied: torch>=1.4.0 in /usr/local/lib/python3.7/dist-packages (from stable-baselines3) (1.9.0+cu102)\n",
            "Requirement already satisfied: gym>=0.17 in /usr/local/lib/python3.7/dist-packages (from stable-baselines3) (0.17.3)\n",
            "Requirement already satisfied: matplotlib in /usr/local/lib/python3.7/dist-packages (from stable-baselines3) (3.2.2)\n",
            "Requirement already satisfied: numpy in /usr/local/lib/python3.7/dist-packages (from stable-baselines3) (1.19.5)\n",
            "Requirement already satisfied: cloudpickle in /usr/local/lib/python3.7/dist-packages (from stable-baselines3) (1.3.0)\n",
            "Requirement already satisfied: python-dateutil>=2.7.3 in /usr/local/lib/python3.7/dist-packages (from pandas->stable-baselines3) (2.8.1)\n",
            "Requirement already satisfied: pytz>=2017.2 in /usr/local/lib/python3.7/dist-packages (from pandas->stable-baselines3) (2018.9)\n",
            "Requirement already satisfied: typing-extensions in /usr/local/lib/python3.7/dist-packages (from torch>=1.4.0->stable-baselines3) (3.7.4.3)\n",
            "Requirement already satisfied: scipy in /usr/local/lib/python3.7/dist-packages (from gym>=0.17->stable-baselines3) (1.4.1)\n",
            "Requirement already satisfied: pyglet<=1.5.0,>=1.4.0 in /usr/local/lib/python3.7/dist-packages (from gym>=0.17->stable-baselines3) (1.5.0)\n",
            "Requirement already satisfied: kiwisolver>=1.0.1 in /usr/local/lib/python3.7/dist-packages (from matplotlib->stable-baselines3) (1.3.1)\n",
            "Requirement already satisfied: pyparsing!=2.0.4,!=2.1.2,!=2.1.6,>=2.0.1 in /usr/local/lib/python3.7/dist-packages (from matplotlib->stable-baselines3) (2.4.7)\n",
            "Requirement already satisfied: cycler>=0.10 in /usr/local/lib/python3.7/dist-packages (from matplotlib->stable-baselines3) (0.10.0)\n",
            "Requirement already satisfied: six>=1.5 in /usr/local/lib/python3.7/dist-packages (from python-dateutil>=2.7.3->pandas->stable-baselines3) (1.15.0)\n",
            "Requirement already satisfied: future in /usr/local/lib/python3.7/dist-packages (from pyglet<=1.5.0,>=1.4.0->gym>=0.17->stable-baselines3) (0.16.0)\n",
            "Installing collected packages: stable-baselines3\n",
            "Successfully installed stable-baselines3-1.0\n"
          ],
          "name": "stdout"
        }
      ]
    },
    {
      "cell_type": "markdown",
      "metadata": {
        "id": "ivAHcGIGSmEM"
      },
      "source": [
        "## サンプルの実行"
      ]
    },
    {
      "cell_type": "code",
      "metadata": {
        "id": "wwK7sQOIOe67"
      },
      "source": [
        "import numpy as np\n",
        "import gym\n",
        "from gym import spaces\n",
        "\n",
        "\n",
        "class GoLeftEnv(gym.Env):\n",
        "  \"\"\"\n",
        "  Gymのインターフェースに従うカスタム環境\n",
        "  エージェントが常に左に行くことを学ぶ環境\n",
        "  \"\"\"\n",
        "  # ColabのためGUIを実装できない\n",
        "  metadata = {'render.modes': ['console']}\n",
        "\n",
        "  # 定数を定義\n",
        "  LEFT = 0\n",
        "  RIGHT = 1\n",
        "\n",
        "  def __init__(self, grid_size=10):\n",
        "    super(GoLeftEnv, self).__init__()\n",
        "\n",
        "    # 1Dグリッドのサイズ\n",
        "    self.grid_size = grid_size\n",
        "\n",
        "    # グリッドの右側でエージェントを初期化\n",
        "    self.agent_pos = grid_size - 1\n",
        "\n",
        "    # 行動空間と状態空間を定義\n",
        "    # gym.spacesオブジェクトでなければならない\n",
        "    # 離散行動を使用する場合の例には、左と右の2つがある\n",
        "    n_actions = 2\n",
        "    self.action_space = spaces.Discrete(n_actions)\n",
        "\n",
        "    # 状態はエージェントの座標になる\n",
        "    # Discrete空間とBox空間の両方で表現できる\n",
        "    self.observation_space = spaces.Box(low=0, high=self.grid_size,\n",
        "                                       shape=(1,), dtype=np.float32)\n",
        "\n",
        "  def reset(self):\n",
        "    \"\"\"\n",
        "    【重要】観測はnumpy配列でなければならない\n",
        "    :return: (np.array)\n",
        "    \"\"\"\n",
        "    # グリッドの右側でエージェントを初期化\n",
        "    self.agent_pos = self.grid_size - 1\n",
        "\n",
        "    # float32に変換してより一般的なものにします（連続行動を使用する場合）\n",
        "    return np.array(self.agent_pos).astype(np.float32)\n",
        "\n",
        "  def step(self, action):\n",
        "    if action == self.LEFT:\n",
        "      self.agent_pos -= 1\n",
        "    elif action == self.RIGHT:\n",
        "      self.agent_pos += 1\n",
        "    else:\n",
        "      raise ValueError(\"Received invalid action={} which is not part of the action space\".format(action))\n",
        "\n",
        "    # グリッドの境界を表現\n",
        "    self.agent_pos = np.clip(self.agent_pos, 0, self.grid_size)\n",
        "\n",
        "    # グリッドの左側にいるか\n",
        "    done = self.agent_pos == 0\n",
        "\n",
        "    # ゴールを除くすべての場所で0の報酬\n",
        "    reward = 1 if self.agent_pos == 0 else 0\n",
        "\n",
        "    # 必要に応じて情報を渡すことができるが、現在は未使用\n",
        "    info = {}\n",
        "\n",
        "    return np.array(self.agent_pos).astype(np.float32), reward, done, info\n",
        "\n",
        "  def render(self, mode='console', close=False):\n",
        "    if mode != 'console':\n",
        "      raise NotImplementedError()\n",
        "\n",
        "    # エージェントは「x」、残りは「.」として表現\n",
        "    print(\".\" * self.agent_pos, end=\"\")\n",
        "    print(\"x\", end=\"\")\n",
        "    print(\".\" * (self.grid_size - self.agent_pos))"
      ],
      "execution_count": 4,
      "outputs": []
    },
    {
      "cell_type": "code",
      "metadata": {
        "colab": {
          "base_uri": "https://localhost:8080/"
        },
        "id": "LlrpB6VxS_Z0",
        "outputId": "f7b91b76-8d9f-46ec-d8cd-caa381ff2c86"
      },
      "source": [
        "env = GoLeftEnv(grid_size=10)\n",
        "\n",
        "obs = env.reset()\n",
        "env.render()\n",
        "\n",
        "print(env.observation_space)\n",
        "print(env.action_space)\n",
        "print(env.action_space.sample())\n",
        "\n",
        "GO_LEFT = 0\n",
        "\n",
        "# ハードコードされた最高のエージェント：常に左に行く\n",
        "n_steps = 20\n",
        "for step in range(n_steps):\n",
        "  print(\"Step {}\".format(step + 1))\n",
        "  obs, reward, done, info = env.step(GO_LEFT)\n",
        "  print('obs=', obs, 'reward=', reward, 'done=', done)\n",
        "  env.render()\n",
        "  if done:\n",
        "    print(\"Goal reached!\", \"reward=\", reward)\n",
        "    break"
      ],
      "execution_count": 5,
      "outputs": [
        {
          "output_type": "stream",
          "text": [
            ".........x.\n",
            "Box(0.0, 10.0, (1,), float32)\n",
            "Discrete(2)\n",
            "1\n",
            "Step 1\n",
            "obs= 8.0 reward= 0 done= False\n",
            "........x..\n",
            "Step 2\n",
            "obs= 7.0 reward= 0 done= False\n",
            ".......x...\n",
            "Step 3\n",
            "obs= 6.0 reward= 0 done= False\n",
            "......x....\n",
            "Step 4\n",
            "obs= 5.0 reward= 0 done= False\n",
            ".....x.....\n",
            "Step 5\n",
            "obs= 4.0 reward= 0 done= False\n",
            "....x......\n",
            "Step 6\n",
            "obs= 3.0 reward= 0 done= False\n",
            "...x.......\n",
            "Step 7\n",
            "obs= 2.0 reward= 0 done= False\n",
            "..x........\n",
            "Step 8\n",
            "obs= 1.0 reward= 0 done= False\n",
            ".x.........\n",
            "Step 9\n",
            "obs= 0.0 reward= 1 done= True\n",
            "x..........\n",
            "Goal reached! reward= 1\n"
          ],
          "name": "stdout"
        }
      ]
    },
    {
      "cell_type": "code",
      "metadata": {
        "id": "uIbo58d5TBwn"
      },
      "source": [
        "from stable_baselines3 import PPO\n",
        "from stable_baselines3.common.monitor import Monitor\n",
        "from stable_baselines3.common.vec_env import DummyVecEnv\n",
        "\n",
        "# 環境の生成\n",
        "env = GoLeftEnv(grid_size=10)\n",
        "\n",
        "# 環境のラップ\n",
        "env = Monitor(env, filename=None, allow_early_resets=True)\n",
        "env = DummyVecEnv([lambda: env])"
      ],
      "execution_count": 6,
      "outputs": []
    },
    {
      "cell_type": "code",
      "metadata": {
        "colab": {
          "base_uri": "https://localhost:8080/"
        },
        "id": "PTgpCUYXTPis",
        "outputId": "af78138a-aed3-433d-ad90-534f615c144c"
      },
      "source": [
        "# エージェントの訓練\n",
        "model = PPO('MlpPolicy', env, verbose=1).learn(5000)"
      ],
      "execution_count": 7,
      "outputs": [
        {
          "output_type": "stream",
          "text": [
            "Using cpu device\n",
            "---------------------------------\n",
            "| rollout/           |          |\n",
            "|    ep_len_mean     | 115      |\n",
            "|    ep_rew_mean     | 1        |\n",
            "| time/              |          |\n",
            "|    fps             | 1281     |\n",
            "|    iterations      | 1        |\n",
            "|    time_elapsed    | 1        |\n",
            "|    total_timesteps | 2048     |\n",
            "---------------------------------\n",
            "-----------------------------------------\n",
            "| rollout/                |             |\n",
            "|    ep_len_mean          | 73          |\n",
            "|    ep_rew_mean          | 1           |\n",
            "| time/                   |             |\n",
            "|    fps                  | 983         |\n",
            "|    iterations           | 2           |\n",
            "|    time_elapsed         | 4           |\n",
            "|    total_timesteps      | 4096        |\n",
            "| train/                  |             |\n",
            "|    approx_kl            | 0.009428214 |\n",
            "|    clip_fraction        | 0.0639      |\n",
            "|    clip_range           | 0.2         |\n",
            "|    entropy_loss         | -0.681      |\n",
            "|    explained_variance   | -1.53       |\n",
            "|    learning_rate        | 0.0003      |\n",
            "|    loss                 | -0.00259    |\n",
            "|    n_updates            | 10          |\n",
            "|    policy_gradient_loss | -0.00506    |\n",
            "|    value_loss           | 0.0107      |\n",
            "-----------------------------------------\n",
            "-----------------------------------------\n",
            "| rollout/                |             |\n",
            "|    ep_len_mean          | 25.4        |\n",
            "|    ep_rew_mean          | 1           |\n",
            "| time/                   |             |\n",
            "|    fps                  | 933         |\n",
            "|    iterations           | 3           |\n",
            "|    time_elapsed         | 6           |\n",
            "|    total_timesteps      | 6144        |\n",
            "| train/                  |             |\n",
            "|    approx_kl            | 0.034369204 |\n",
            "|    clip_fraction        | 0.376       |\n",
            "|    clip_range           | 0.2         |\n",
            "|    entropy_loss         | -0.628      |\n",
            "|    explained_variance   | 0.21        |\n",
            "|    learning_rate        | 0.0003      |\n",
            "|    loss                 | -0.0256     |\n",
            "|    n_updates            | 20          |\n",
            "|    policy_gradient_loss | -0.0398     |\n",
            "|    value_loss           | 0.0129      |\n",
            "-----------------------------------------\n"
          ],
          "name": "stdout"
        }
      ]
    },
    {
      "cell_type": "code",
      "metadata": {
        "colab": {
          "base_uri": "https://localhost:8080/"
        },
        "id": "PR69cZGVTQ00",
        "outputId": "42f13f71-e3db-4c9b-aa16-07d829e33531"
      },
      "source": [
        "# 訓練済みエージェントのテスト\n",
        "obs = env.reset()\n",
        "n_steps = 20\n",
        "for step in range(n_steps):\n",
        "  action, _ = model.predict(obs, deterministic=True)\n",
        "  print(\"Step {}\".format(step + 1))\n",
        "  print(\"Action: \", action)\n",
        "  obs, reward, done, info = env.step(action)\n",
        "  print('obs=', obs, 'reward=', reward, 'done=', done)\n",
        "  env.render(mode='console')\n",
        "  if done:\n",
        "    # VecEnvは、エピソード完了に遭遇すると自動的にリセットされることに注意\n",
        "    print(\"Goal reached!\", \"reward=\", reward)\n",
        "    break"
      ],
      "execution_count": 8,
      "outputs": [
        {
          "output_type": "stream",
          "text": [
            "Step 1\n",
            "Action:  [0]\n",
            "obs= [[8.]] reward= [0.] done= [False]\n",
            "........x..\n",
            "Step 2\n",
            "Action:  [0]\n",
            "obs= [[7.]] reward= [0.] done= [False]\n",
            ".......x...\n",
            "Step 3\n",
            "Action:  [0]\n",
            "obs= [[6.]] reward= [0.] done= [False]\n",
            "......x....\n",
            "Step 4\n",
            "Action:  [0]\n",
            "obs= [[5.]] reward= [0.] done= [False]\n",
            ".....x.....\n",
            "Step 5\n",
            "Action:  [0]\n",
            "obs= [[4.]] reward= [0.] done= [False]\n",
            "....x......\n",
            "Step 6\n",
            "Action:  [0]\n",
            "obs= [[3.]] reward= [0.] done= [False]\n",
            "...x.......\n",
            "Step 7\n",
            "Action:  [0]\n",
            "obs= [[2.]] reward= [0.] done= [False]\n",
            "..x........\n",
            "Step 8\n",
            "Action:  [0]\n",
            "obs= [[1.]] reward= [0.] done= [False]\n",
            ".x.........\n",
            "Step 9\n",
            "Action:  [0]\n",
            "obs= [[9.]] reward= [1.] done= [ True]\n",
            ".........x.\n",
            "Goal reached! reward= [1.]\n"
          ],
          "name": "stdout"
        }
      ]
    },
    {
      "cell_type": "markdown",
      "metadata": {
        "id": "WdUISRWiX4kM"
      },
      "source": [
        "## 実際の処理"
      ]
    },
    {
      "cell_type": "code",
      "metadata": {
        "colab": {
          "base_uri": "https://localhost:8080/"
        },
        "id": "XI2D4A-cXnQI",
        "outputId": "014ce1b1-259e-486c-8588-4fdd8f550e3f"
      },
      "source": [
        "import numpy as np\n",
        "import gym\n",
        "from gym import spaces\n",
        "\n",
        "\n",
        "from puzzpy import PuzzTable\n",
        "table = PuzzTable(10)\n",
        "table.show_table()\n",
        "for a in table.next_tables():\n",
        "    print(a.get_table())\n",
        "    print(a.get_XY_as_table())\n",
        "\n",
        "class PuzzEnv(gym.Env):\n",
        "  \"\"\"\n",
        "  Gymのインターフェースに従うカスタム環境\n",
        "  エージェントが常に左に行くことを学ぶ環境\n",
        "  \"\"\"\n",
        "  # ColabのためGUIを実装できない\n",
        "  metadata = {'render.modes': ['console']}\n",
        "\n",
        "  # 定数を定義\n",
        "  LEFT = 0\n",
        "  RIGHT = 1\n",
        "\n",
        "  def __init__(self):\n",
        "    super(PuzzEnv, self).__init__()\n",
        "\n",
        "    self.action_space = spaces.Discrete(5)\n",
        "\n",
        "    # 状態はエージェントの座標になる\n",
        "    # Discrete空間とBox空間の両方で表現できる\n",
        "    self.observation_space = spaces.Tuple([spaces.Box(low=0, high=5,\n",
        "                                       shape=(5,6), dtype=np.float32),\n",
        "                                       spaces.Box(low=0, high=1,\n",
        "                                       shape=(5,6), dtype=np.float32),\n",
        "                                       spaces.Box(low=1, high=155,\n",
        "                                       shape=(1,), dtype=np.float32)])\n",
        "\n",
        "  def reset(self):\n",
        "    \"\"\"\n",
        "    【重要】観測はnumpy配列でなければならない\n",
        "    :return: (np.array)\n",
        "    \"\"\"\n",
        "    self.table = PuzzTable(155)\n",
        "\n",
        "    return [np.array(self.table.get_table()).astype(np.float32),\n",
        "              np.array(self.table.get_XY_as_table()).astype(np.float32),\n",
        "              self.table.get_turn()]\n",
        "\n",
        "  def step(self, action):\n",
        "    if action == 4:\n",
        "      return [np.array(self.table.get_table()).astype(np.float32),\n",
        "              np.array(self.table.get_XY_as_table()).astype(np.float32),\n",
        "              self.table.get_turn()], self.table.eval_otoshi(), True, {}\n",
        "\n",
        "    next_table = self.table.next_tables()[action]\n",
        "\n",
        "    if next_table.get_table()[0,0] == 255:\n",
        "      return [np.array(self.table.get_table()).astype(np.float32),\n",
        "              np.array(self.table.get_XY_as_table()).astype(np.float32),\n",
        "              self.table.get_turn()], self.table.eval_otoshi(), True, {}\n",
        "\n",
        "    self.table = next_table\n",
        "\n",
        "    if self.table.get_turn() <= 0:\n",
        "      return [np.array(self.table.get_table()).astype(np.float32),\n",
        "              np.array(self.table.get_XY_as_table()).astype(np.float32),\n",
        "              self.table.get_turn()], self.table.eval_otoshi(), True, {}\n",
        "\n",
        "    return [np.array(self.table.get_table()).astype(np.float32),\n",
        "              np.array(self.table.get_XY_as_table()).astype(np.float32),\n",
        "              self.table.get_turn()], 0, False, {}\n",
        "\n",
        "  def render(self, mode='console', close=False):\n",
        "    if mode != 'console':\n",
        "      raise NotImplementedError()\n",
        "\n",
        "    self.table.show_table()"
      ],
      "execution_count": 15,
      "outputs": [
        {
          "output_type": "stream",
          "text": [
            "[['\\x04', '\\x04', '\\x06', '\\x01', '\\x04', '\\x05'], ['\\x02', '\\x02', '\\x01', '\\x05', '\\x03', '\\x05'], ['\\x03', '\\x06', '\\x02', '\\x03', '\\x01', '\\x03'], ['\\x02', '\\x02', '\\x05', '\\x04', '\\x06', '\\x03'], ['\\x04', '\\x06', '\\x06', '\\x03', '\\x01', '\\x01']]\n",
            "[['\\x00', '\\x00', '\\x00', '\\x00', '\\x00', '\\x00'], ['\\x00', '\\x00', '\\x00', '\\x00', '\\x00', '\\x00'], ['\\x00', '\\x01', '\\x00', '\\x00', '\\x00', '\\x00'], ['\\x00', '\\x00', '\\x00', '\\x00', '\\x00', '\\x00'], ['\\x00', '\\x00', '\\x00', '\\x00', '\\x00', '\\x00']]\n",
            "[['\\x04', '\\x04', '\\x06', '\\x01', '\\x04', '\\x05'], ['\\x02', '\\x02', '\\x06', '\\x05', '\\x03', '\\x05'], ['\\x03', '\\x02', '\\x01', '\\x03', '\\x01', '\\x03'], ['\\x02', '\\x02', '\\x05', '\\x04', '\\x06', '\\x03'], ['\\x04', '\\x06', '\\x06', '\\x03', '\\x01', '\\x01']]\n",
            "[['\\x00', '\\x00', '\\x00', '\\x00', '\\x00', '\\x00'], ['\\x00', '\\x00', '\\x01', '\\x00', '\\x00', '\\x00'], ['\\x00', '\\x00', '\\x00', '\\x00', '\\x00', '\\x00'], ['\\x00', '\\x00', '\\x00', '\\x00', '\\x00', '\\x00'], ['\\x00', '\\x00', '\\x00', '\\x00', '\\x00', '\\x00']]\n",
            "[['\\x04', '\\x04', '\\x06', '\\x01', '\\x04', '\\x05'], ['\\x02', '\\x02', '\\x01', '\\x05', '\\x03', '\\x05'], ['\\x03', '\\x02', '\\x05', '\\x03', '\\x01', '\\x03'], ['\\x02', '\\x02', '\\x06', '\\x04', '\\x06', '\\x03'], ['\\x04', '\\x06', '\\x06', '\\x03', '\\x01', '\\x01']]\n",
            "[['\\x00', '\\x00', '\\x00', '\\x00', '\\x00', '\\x00'], ['\\x00', '\\x00', '\\x00', '\\x00', '\\x00', '\\x00'], ['\\x00', '\\x00', '\\x00', '\\x00', '\\x00', '\\x00'], ['\\x00', '\\x00', '\\x01', '\\x00', '\\x00', '\\x00'], ['\\x00', '\\x00', '\\x00', '\\x00', '\\x00', '\\x00']]\n",
            "[['\\x04', '\\x04', '\\x06', '\\x01', '\\x04', '\\x05'], ['\\x02', '\\x02', '\\x01', '\\x05', '\\x03', '\\x05'], ['\\x03', '\\x02', '\\x03', '\\x06', '\\x01', '\\x03'], ['\\x02', '\\x02', '\\x05', '\\x04', '\\x06', '\\x03'], ['\\x04', '\\x06', '\\x06', '\\x03', '\\x01', '\\x01']]\n",
            "[['\\x00', '\\x00', '\\x00', '\\x00', '\\x00', '\\x00'], ['\\x00', '\\x00', '\\x00', '\\x00', '\\x00', '\\x00'], ['\\x00', '\\x00', '\\x00', '\\x01', '\\x00', '\\x00'], ['\\x00', '\\x00', '\\x00', '\\x00', '\\x00', '\\x00'], ['\\x00', '\\x00', '\\x00', '\\x00', '\\x00', '\\x00']]\n"
          ],
          "name": "stdout"
        }
      ]
    },
    {
      "cell_type": "code",
      "metadata": {
        "id": "K7Z9SliEfKci",
        "outputId": "b9deb38e-62fa-48e7-b152-4f049297fc99",
        "colab": {
          "base_uri": "https://localhost:8080/",
          "height": 355
        }
      },
      "source": [
        "env = PuzzEnv()\n",
        "\n",
        "obs = env.reset()\n",
        "env.render()\n",
        "\n",
        "print(env.observation_space)\n",
        "print(env.action_space)\n",
        "print(env.action_space.sample())\n",
        "\n",
        "# GO_LEFT = 0\n",
        "\n",
        "# # ハードコードされた最高のエージェント：常に左に行く\n",
        "# n_steps = 20\n",
        "# for step in range(n_steps):\n",
        "#   print(\"Step {}\".format(step + 1))\n",
        "#   obs, reward, done, info = env.step(GO_LEFT)\n",
        "#   print('obs=', obs, 'reward=', reward, 'done=', done)\n",
        "#   env.render()\n",
        "#   if done:\n",
        "#     print(\"Goal reached!\", \"reward=\", reward)\n",
        "#     break"
      ],
      "execution_count": 16,
      "outputs": [
        {
          "output_type": "error",
          "ename": "ValueError",
          "evalue": "ignored",
          "traceback": [
            "\u001b[0;31m---------------------------------------------------------------------------\u001b[0m",
            "\u001b[0;31mValueError\u001b[0m                                Traceback (most recent call last)",
            "\u001b[0;32m<ipython-input-16-e793ec53627a>\u001b[0m in \u001b[0;36m<module>\u001b[0;34m()\u001b[0m\n\u001b[1;32m      1\u001b[0m \u001b[0menv\u001b[0m \u001b[0;34m=\u001b[0m \u001b[0mPuzzEnv\u001b[0m\u001b[0;34m(\u001b[0m\u001b[0;34m)\u001b[0m\u001b[0;34m\u001b[0m\u001b[0;34m\u001b[0m\u001b[0m\n\u001b[1;32m      2\u001b[0m \u001b[0;34m\u001b[0m\u001b[0m\n\u001b[0;32m----> 3\u001b[0;31m \u001b[0mobs\u001b[0m \u001b[0;34m=\u001b[0m \u001b[0menv\u001b[0m\u001b[0;34m.\u001b[0m\u001b[0mreset\u001b[0m\u001b[0;34m(\u001b[0m\u001b[0;34m)\u001b[0m\u001b[0;34m\u001b[0m\u001b[0;34m\u001b[0m\u001b[0m\n\u001b[0m\u001b[1;32m      4\u001b[0m \u001b[0menv\u001b[0m\u001b[0;34m.\u001b[0m\u001b[0mrender\u001b[0m\u001b[0;34m(\u001b[0m\u001b[0;34m)\u001b[0m\u001b[0;34m\u001b[0m\u001b[0;34m\u001b[0m\u001b[0m\n\u001b[1;32m      5\u001b[0m \u001b[0;34m\u001b[0m\u001b[0m\n",
            "\u001b[0;32m<ipython-input-15-955d1eb913f4>\u001b[0m in \u001b[0;36mreset\u001b[0;34m(self)\u001b[0m\n\u001b[1;32m     44\u001b[0m     \u001b[0mself\u001b[0m\u001b[0;34m.\u001b[0m\u001b[0mtable\u001b[0m \u001b[0;34m=\u001b[0m \u001b[0mPuzzTable\u001b[0m\u001b[0;34m(\u001b[0m\u001b[0;36m155\u001b[0m\u001b[0;34m)\u001b[0m\u001b[0;34m\u001b[0m\u001b[0;34m\u001b[0m\u001b[0m\n\u001b[1;32m     45\u001b[0m \u001b[0;34m\u001b[0m\u001b[0m\n\u001b[0;32m---> 46\u001b[0;31m     return [np.array(self.table.get_table()).astype(np.float32),\n\u001b[0m\u001b[1;32m     47\u001b[0m               \u001b[0mnp\u001b[0m\u001b[0;34m.\u001b[0m\u001b[0marray\u001b[0m\u001b[0;34m(\u001b[0m\u001b[0mself\u001b[0m\u001b[0;34m.\u001b[0m\u001b[0mtable\u001b[0m\u001b[0;34m.\u001b[0m\u001b[0mget_XY_as_table\u001b[0m\u001b[0;34m(\u001b[0m\u001b[0;34m)\u001b[0m\u001b[0;34m)\u001b[0m\u001b[0;34m.\u001b[0m\u001b[0mastype\u001b[0m\u001b[0;34m(\u001b[0m\u001b[0mnp\u001b[0m\u001b[0;34m.\u001b[0m\u001b[0mfloat32\u001b[0m\u001b[0;34m)\u001b[0m\u001b[0;34m,\u001b[0m\u001b[0;34m\u001b[0m\u001b[0;34m\u001b[0m\u001b[0m\n\u001b[1;32m     48\u001b[0m               self.table.get_turn()]\n",
            "\u001b[0;31mValueError\u001b[0m: could not convert string to float: '\\x05'"
          ]
        }
      ]
    },
    {
      "cell_type": "code",
      "metadata": {
        "id": "i5KQAHR0fWJF",
        "outputId": "3ce1bff5-7487-4bc4-eb2d-f5fd126af9d9",
        "colab": {
          "base_uri": "https://localhost:8080/"
        }
      },
      "source": [
        "table = PuzzTable(10)\n",
        "table.show_table()\n",
        "str1 = np.array(table.get_table())[0,0]\n",
        "print(ord(str1))"
      ],
      "execution_count": 24,
      "outputs": [
        {
          "output_type": "stream",
          "text": [
            "4\n"
          ],
          "name": "stdout"
        }
      ]
    },
    {
      "cell_type": "code",
      "metadata": {
        "id": "yiOiIdZ_gvP3"
      },
      "source": [
        ""
      ],
      "execution_count": null,
      "outputs": []
    }
  ]
}