{
  "nbformat": 4,
  "nbformat_minor": 0,
  "metadata": {
    "colab": {
      "provenance": [],
      "authorship_tag": "ABX9TyPpFUCQyhQOVFYNrhdCEPfK",
      "include_colab_link": true
    },
    "kernelspec": {
      "name": "python3",
      "display_name": "Python 3"
    },
    "language_info": {
      "name": "python"
    }
  },
  "cells": [
    {
      "cell_type": "markdown",
      "metadata": {
        "id": "view-in-github",
        "colab_type": "text"
      },
      "source": [
        "<a href=\"https://colab.research.google.com/github/mitosagi/puzzdra-nnsolver/blob/master/baseline.ipynb\" target=\"_parent\"><img src=\"https://colab.research.google.com/assets/colab-badge.svg\" alt=\"Open In Colab\"/></a>"
      ]
    },
    {
      "cell_type": "markdown",
      "source": [
        "## 15puzzleソルバ\n",
        "人間にとって直感的な解法を使用して15パズルを解きます。"
      ],
      "metadata": {
        "id": "f16knasxUKve"
      }
    },
    {
      "cell_type": "code",
      "execution_count": 108,
      "metadata": {
        "colab": {
          "base_uri": "https://localhost:8080/"
        },
        "id": "OJH0srfIT-g6",
        "outputId": "4fdf2992-290a-4a26-b2fd-d65ec455a930"
      },
      "outputs": [
        {
          "output_type": "execute_result",
          "data": {
            "text/plain": [
              "(array([[ 1,  2,  3,  4,  5,  6],\n",
              "        [ 7,  8,  9, 10, 11, 12],\n",
              "        [13, 14, 15, 16, 17, 18],\n",
              "        [19, 20, 21, 22, 23, 24],\n",
              "        [25, 26, 27, 28, 29, 30]]),\n",
              " array([[29, 20, 19, 11,  6, 28],\n",
              "        [10, 26, 21, 16, 18,  2],\n",
              "        [24,  7, 22, 25,  1,  3],\n",
              "        [30,  4, 27, 12, 23, 13],\n",
              "        [17,  8,  9, 14, 15,  5]]))"
            ]
          },
          "metadata": {},
          "execution_count": 108
        }
      ],
      "source": [
        "import numpy as np\n",
        "\n",
        "board_x = 6\n",
        "board_y = 5\n",
        "\n",
        "# Creating a 4x4 array with numbers 1 to 16 in order\n",
        "ordered_puzzle = np.arange(1, board_y*board_x+1).reshape(board_y, board_x)\n",
        "\n",
        "# Creating a 4x4 array with numbers 1 to 16 in random order\n",
        "random_puzzle = np.random.permutation(board_y*board_x) + 1\n",
        "random_puzzle = random_puzzle.reshape(board_y, board_x)\n",
        "\n",
        "ordered_puzzle, random_puzzle"
      ]
    },
    {
      "cell_type": "code",
      "source": [
        "import matplotlib.pyplot as plt\n",
        "import IPython\n",
        "from IPython.display import HTML\n",
        "from matplotlib.animation import FuncAnimation\n",
        "from matplotlib import rc\n",
        "\n",
        "def show_animation(puzzles):\n",
        "  # Redefine the plot function for animation\n",
        "  def plot_puzzle_for_animation(frame_num, puzzles, ax):\n",
        "      \"\"\" Plot function for animation. \"\"\"\n",
        "      ax.clear()\n",
        "      ax.matshow(puzzles[frame_num], cmap='viridis')\n",
        "      for (i, j), value in np.ndenumerate(puzzles[frame_num]):\n",
        "          ax.text(j, i, int(value), ha='center', va='center', color='white')\n",
        "      ax.set_xticks([])  # Remove x-axis ticks\n",
        "      ax.set_yticks([])  # Remove y-axis ticks\n",
        "\n",
        "  # Create a figure and axes\n",
        "  fig, ax = plt.subplots()\n",
        "\n",
        "  # Create an animation\n",
        "\n",
        "  rc('animation', html='jshtml')\n",
        "  ani = FuncAnimation(fig, plot_puzzle_for_animation, frames=len(puzzles), fargs=(puzzles, ax), interval=50, repeat=True)\n",
        "  ani.save(\"move.gif\")\n",
        "  IPython.display.Image(\"move.gif\", format='png')\n",
        "  return ani\n",
        "\n",
        "  # # Convert the animation to HTML5 video and display it\n",
        "  # # HTML(ani.to_html5_video())\n",
        "  # HTML(ani.to_jshtml())"
      ],
      "metadata": {
        "id": "gWmyc_mGSK_I"
      },
      "execution_count": 109,
      "outputs": []
    },
    {
      "cell_type": "code",
      "source": [
        "from queue import Queue\n",
        "\n",
        "def bfs_find_path_quadrant(start, end, obstacle_matrix):\n",
        "    \"\"\" Perform BFS to find the shortest path from a starting point to an end point, considering an obstacle matrix.\n",
        "        Redefine directions as per the mathematical quadrant system (x+ = 0, y+ = 1, x- = 2, y- = 3). \"\"\"\n",
        "    size_y, size_x = obstacle_matrix.shape\n",
        "    visited = np.full((size_y, size_x), False)  # Initialize visited array\n",
        "    parent = np.full((size_y, size_x, 2), -1)  # To store the parent of each node\n",
        "    q = Queue()\n",
        "\n",
        "    # Redefine directions: x+ (Right) = 0, y+ (Down) = 1, x- (Left) = 2, y- (Up) = 3\n",
        "    directions = [(0, 1), (1, 0), (0, -1), (-1, 0)]\n",
        "    direction_mapping = {(dx, dy): d for d, (dx, dy) in enumerate(directions)}\n",
        "\n",
        "    # Start from the given position\n",
        "    q.put(start)\n",
        "    visited[start] = True\n",
        "\n",
        "    while not q.empty():\n",
        "        current = q.get()\n",
        "\n",
        "        if current == end:\n",
        "            # Reconstruct the path\n",
        "            path = []\n",
        "            while current != start:\n",
        "                prev = parent[current[0], current[1]]\n",
        "                prev_pos, direction = prev[0], prev[1]\n",
        "                path.append(direction)\n",
        "                current = (prev_pos // size_x, prev_pos % size_x)\n",
        "            return path[::-1]\n",
        "\n",
        "        # Check all four directions\n",
        "        for dx, dy in directions:\n",
        "            next_pos = (current[0] + dx, current[1] + dy)\n",
        "\n",
        "            if 0 <= next_pos[1] < size_x and 0 <= next_pos[0] < size_y and not visited[next_pos] and obstacle_matrix[next_pos] == 0:\n",
        "                visited[next_pos] = True\n",
        "                parent[next_pos[0], next_pos[1]] = (current[0] * size_x + current[1], direction_mapping[(dx, dy)])\n",
        "                q.put(next_pos)\n",
        "\n",
        "    return []  # Return empty path if no path is found\n",
        "\n",
        "# Define the obstacle matrix for a 5x6 board (0 = no obstacle, 1 = obstacle)\n",
        "obstacle_matrix_5x6 = np.zeros((board_y, board_x), dtype=int)\n",
        "obstacle_matrix_5x6[2, 0] = 1\n",
        "obstacle_matrix_5x6[2, 1] = 1\n",
        "print(obstacle_matrix_5x6)\n",
        "\n",
        "print([bfs_find_path_quadrant((i // board_x, i % board_x), (2, 0), obstacle_matrix_5x6) for i in [0]][0])"
      ],
      "metadata": {
        "colab": {
          "base_uri": "https://localhost:8080/"
        },
        "id": "7ZmXbjoOUYQI",
        "outputId": "35432340-dd36-4e0e-c1cc-e7c282b57463"
      },
      "execution_count": 110,
      "outputs": [
        {
          "output_type": "stream",
          "name": "stdout",
          "text": [
            "[[0 0 0 0 0 0]\n",
            " [0 0 0 0 0 0]\n",
            " [1 1 0 0 0 0]\n",
            " [0 0 0 0 0 0]\n",
            " [0 0 0 0 0 0]]\n",
            "[]\n"
          ]
        }
      ]
    },
    {
      "cell_type": "code",
      "source": [
        "def move_tile(puzzle, number, direction):\n",
        "    \"\"\" Move the '30' tile in the specified direction on the puzzle board.\n",
        "        Directions: 0 = Right, 1 = Down, 2 = Left, 3 = Up. \"\"\"\n",
        "    size_y, size_x = puzzle.shape\n",
        "    # Find the position of the 'number' tile\n",
        "    y, x = np.where(puzzle == number)\n",
        "    if y.size == 0 or x.size == 0:\n",
        "        return puzzle  # Return the original puzzle if 'number' is not found\n",
        "\n",
        "    y, x = y[0], x[0]  # Extract the coordinates\n",
        "\n",
        "    # Calculate the new position based on the direction\n",
        "    if direction == 0 and x < size_x - 1:  # Right\n",
        "        new_x, new_y = x + 1, y\n",
        "    elif direction == 1 and y < size_y - 1:  # Down\n",
        "        new_x, new_y = x, y + 1\n",
        "    elif direction == 2 and x > 0:  # Left\n",
        "        new_x, new_y = x - 1, y\n",
        "    elif direction == 3 and y > 0:  # Up\n",
        "        new_x, new_y = x, y - 1\n",
        "    else:\n",
        "        return puzzle  # Return the original puzzle if the move is not valid\n",
        "\n",
        "    # Swap the tiles\n",
        "    new_puzzle = puzzle.copy()\n",
        "    new_puzzle[y, x], new_puzzle[new_y, new_x] = new_puzzle[new_y, new_x], new_puzzle[y, x]\n",
        "    return new_puzzle"
      ],
      "metadata": {
        "id": "hnqXl95ZD96P"
      },
      "execution_count": 111,
      "outputs": []
    },
    {
      "cell_type": "code",
      "source": [
        "def rich_move_tile(puzzles, current_puzzle, start_pos, end_pos, obstacle):\n",
        "  start_n = current_puzzle[start_pos]\n",
        "  tile_move = bfs_find_path_quadrant(start_pos, end_pos, obstacle)\n",
        "\n",
        "  for i in tile_move:\n",
        "    next_puzzle = move_tile(current_puzzle, start_n, i)\n",
        "    next_start_pos = tuple(np.argwhere(next_puzzle == start_n)[0])\n",
        "\n",
        "    hand_obstacle = copy.deepcopy(obstacle)\n",
        "    hand_obstacle[start_pos] = 1\n",
        "\n",
        "    hand_pos = tuple(np.argwhere(current_puzzle == board_y*board_x)[0])\n",
        "    hand_move = bfs_find_path_quadrant(hand_pos, next_start_pos, hand_obstacle)\n",
        "    for j in hand_move:\n",
        "      current_puzzle = move_tile(current_puzzle, board_y*board_x, j)\n",
        "      puzzles.append(current_puzzle)\n",
        "\n",
        "    current_puzzle = move_tile(current_puzzle, board_y*board_x, (i+2)%4)\n",
        "    puzzles.append(current_puzzle)\n",
        "    start_pos = tuple(np.argwhere(current_puzzle == start_n)[0])\n",
        "  return current_puzzle"
      ],
      "metadata": {
        "id": "ZCOkCIKqaYmg"
      },
      "execution_count": 112,
      "outputs": []
    },
    {
      "cell_type": "code",
      "source": [
        "def possible_moves_with_obstacle(puzzle, position, obstacle_matrix):\n",
        "    \"\"\" Find the possible moves from a given position in the puzzle, considering an obstacle matrix. \"\"\"\n",
        "    size_y, size_x = puzzle.shape\n",
        "    y, x = position\n",
        "    moves = []\n",
        "\n",
        "    # Directions: 0 = Right, 1 = Down, 2 = Left, 3 = Up\n",
        "    if x < size_x - 1 and obstacle_matrix[y, x + 1] == 0:  # Right\n",
        "        moves.append(0)\n",
        "    if y < size_y - 1 and obstacle_matrix[y + 1, x] == 0:  # Down\n",
        "        moves.append(1)\n",
        "    if x > 0 and obstacle_matrix[y, x - 1] == 0:  # Left\n",
        "        moves.append(2)\n",
        "    if y > 0 and obstacle_matrix[y - 1, x] == 0:  # Up\n",
        "        moves.append(3)\n",
        "\n",
        "    return moves"
      ],
      "metadata": {
        "id": "PQ-WJQpenImm"
      },
      "execution_count": 113,
      "outputs": []
    },
    {
      "cell_type": "code",
      "source": [
        "def sort_puzzle_by_distance(puzzle, target_position, obstacle_matrix):\n",
        "  \"\"\" Sort the tiles which are multiples of 5 in the puzzle based on the Manhattan distance from the target position,\n",
        "      considering the obstacle matrix. \"\"\"\n",
        "  def sort_puzzle_by_distance_small(puzzle, target_position, obstacle_matrix, rem):\n",
        "      size_y, size_x = puzzle.shape\n",
        "      multiples_of_five = []\n",
        "      positions = []\n",
        "\n",
        "      # Extract multiples of 5 and their positions, excluding obstacles\n",
        "      for y in range(size_y):\n",
        "          for x in range(size_x):\n",
        "              if puzzle[y, x] % 5 == rem and obstacle_matrix[y, x] == 0:\n",
        "                  multiples_of_five.append(puzzle[y, x])\n",
        "                  positions.append((y, x))\n",
        "\n",
        "      # Sort the multiples of five\n",
        "      multiples_of_five.sort()\n",
        "\n",
        "      # Calculate Manhattan distances and sort positions based on it\n",
        "      distances = [abs(y - target_position[0]) + abs(x - target_position[1]) for y, x in positions]\n",
        "      sorted_positions = [pos for _, pos in sorted(zip(distances, positions))]\n",
        "\n",
        "      # Create a new puzzle with sorted values\n",
        "      new_puzzle = puzzle.copy()\n",
        "      for pos, value in zip(sorted_positions, multiples_of_five):\n",
        "          new_puzzle[pos] = value\n",
        "\n",
        "      return new_puzzle\n",
        "\n",
        "  puzzle = sort_puzzle_by_distance_small(puzzle, target_position, obstacle_matrix, 0)\n",
        "  puzzle = sort_puzzle_by_distance_small(puzzle, target_position, obstacle_matrix, 1)\n",
        "  puzzle = sort_puzzle_by_distance_small(puzzle, target_position, obstacle_matrix, 2)\n",
        "  puzzle = sort_puzzle_by_distance_small(puzzle, target_position, obstacle_matrix, 3)\n",
        "  puzzle = sort_puzzle_by_distance_small(puzzle, target_position, obstacle_matrix, 4)\n",
        "  return puzzle"
      ],
      "metadata": {
        "id": "ZbOy3M-aHvGE"
      },
      "execution_count": 114,
      "outputs": []
    },
    {
      "cell_type": "code",
      "source": [
        "import copy\n",
        "\n",
        "current_puzzle = copy.deepcopy(random_puzzle)\n",
        "puzzles = [current_puzzle]\n",
        "\n",
        "template_puzzle = [[ 7,10,13,29,28,22],\n",
        "                   [ 8,11,14,30,27,23],\n",
        "                   [ 9,12,15,25,26,24],\n",
        "                   [ 4, 5, 6,21,20,19],\n",
        "                   [ 1, 2, 3,18,17,16]]\n",
        "template_puzzle = np.array(template_puzzle, dtype=int)\n",
        "tile_obstacle = np.zeros((board_y, board_x), dtype=int)\n",
        "\n",
        "n = 1\n",
        "while n < board_y*board_x:\n",
        "  step_pos = tuple(np.argwhere(template_puzzle == n)[0])\n",
        "  next_step_pos = tuple(np.argwhere(template_puzzle == n + 1)[0])\n",
        "\n",
        "  no_hand_obstacle = copy.deepcopy(tile_obstacle)\n",
        "  hand_pos = tuple(np.argwhere(current_puzzle == board_y*board_x)[0])\n",
        "  no_hand_obstacle[hand_pos] = 1\n",
        "  current_puzzle = sort_puzzle_by_distance(current_puzzle, step_pos, no_hand_obstacle)\n",
        "  puzzles.append(current_puzzle)\n",
        "\n",
        "  next_tile_obstacle = copy.deepcopy(tile_obstacle)\n",
        "  next_tile_obstacle[step_pos] = 1\n",
        "  tile_pos = tuple(np.argwhere(current_puzzle == n)[0])\n",
        "  predict = possible_moves_with_obstacle(template_puzzle, next_step_pos, next_tile_obstacle)\n",
        "  if(len(predict) > 1) or n >= board_y*board_x - 4:\n",
        "    current_puzzle = rich_move_tile(puzzles, current_puzzle, tile_pos, step_pos, tile_obstacle)\n",
        "    tile_obstacle[step_pos] = 1\n",
        "    n = n + 1\n",
        "  else:\n",
        "    template_puzzle_p = move_tile(template_puzzle, n + 1, predict[0])\n",
        "    template_puzzle_pp = move_tile(template_puzzle_p, n + 1, predict[0])\n",
        "    next_step_pos_p = tuple(np.argwhere(template_puzzle_p == n + 1)[0])\n",
        "    next_step_pos_pp = tuple(np.argwhere(template_puzzle_pp == n + 1)[0])\n",
        "    next_tile_pos = tuple(np.argwhere(current_puzzle == n + 1)[0])\n",
        "    if (next_tile_pos[0] == step_pos[0] or next_tile_pos[0] == next_step_pos_p[0]) and\\\n",
        "        (next_tile_pos[1] == step_pos[1] or next_tile_pos[1] == next_step_pos_p[1]):\n",
        "      current_puzzle = rich_move_tile(puzzles, current_puzzle, next_tile_pos, next_step_pos_pp, tile_obstacle)\n",
        "    tile_pos = tuple(np.argwhere(current_puzzle == n)[0])\n",
        "    current_puzzle = rich_move_tile(puzzles, current_puzzle, tile_pos, next_step_pos, tile_obstacle)\n",
        "    next_tile_pos = tuple(np.argwhere(current_puzzle == n + 1)[0])\n",
        "    next_tile_obstacle = copy.deepcopy(tile_obstacle)\n",
        "    next_tile_obstacle[next_step_pos] = 1\n",
        "    current_puzzle = rich_move_tile(puzzles, current_puzzle, next_tile_pos, next_step_pos_p, next_tile_obstacle)\n",
        "    next_tile_pos = tuple(np.argwhere(current_puzzle == n + 1)[0])\n",
        "    current_puzzle = rich_move_tile(puzzles, current_puzzle, next_tile_pos, next_step_pos, tile_obstacle)\n",
        "    tile_obstacle[step_pos] = 1\n",
        "    tile_obstacle[next_step_pos] = 1\n",
        "    n = n + 2\n",
        "\n",
        "show_animation(puzzles)\n"
      ],
      "metadata": {
        "id": "-oLwhXNvUnLh"
      },
      "execution_count": null,
      "outputs": []
    },
    {
      "cell_type": "code",
      "source": [],
      "metadata": {
        "id": "MwD-gxSVj23R"
      },
      "execution_count": null,
      "outputs": []
    }
  ]
}