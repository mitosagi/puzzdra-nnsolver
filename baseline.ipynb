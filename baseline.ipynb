{
  "nbformat": 4,
  "nbformat_minor": 0,
  "metadata": {
    "colab": {
      "provenance": [],
      "authorship_tag": "ABX9TyN0nCd7RVhuKjMveCMoMOsw",
      "include_colab_link": true
    },
    "kernelspec": {
      "name": "python3",
      "display_name": "Python 3"
    },
    "language_info": {
      "name": "python"
    }
  },
  "cells": [
    {
      "cell_type": "markdown",
      "metadata": {
        "id": "view-in-github",
        "colab_type": "text"
      },
      "source": [
        "<a href=\"https://colab.research.google.com/github/mitosagi/puzzdra-nnsolver/blob/master/baseline.ipynb\" target=\"_parent\"><img src=\"https://colab.research.google.com/assets/colab-badge.svg\" alt=\"Open In Colab\"/></a>"
      ]
    },
    {
      "cell_type": "markdown",
      "source": [
        "## 15puzzleソルバ\n",
        "人間にとって直感的な解法を使用して15パズルを解きます。"
      ],
      "metadata": {
        "id": "f16knasxUKve"
      }
    },
    {
      "cell_type": "code",
      "source": [],
      "metadata": {
        "id": "qwPejDVTUZ_P"
      },
      "execution_count": null,
      "outputs": []
    },
    {
      "cell_type": "code",
      "execution_count": 29,
      "metadata": {
        "colab": {
          "base_uri": "https://localhost:8080/"
        },
        "id": "OJH0srfIT-g6",
        "outputId": "e808273b-548a-48dd-824f-062307ea8911"
      },
      "outputs": [
        {
          "output_type": "execute_result",
          "data": {
            "text/plain": [
              "(array([[ 1,  2,  3,  4,  5],\n",
              "        [ 6,  7,  8,  9, 10],\n",
              "        [11, 12, 13, 14, 15],\n",
              "        [16, 17, 18, 19, 20],\n",
              "        [21, 22, 23, 24, 25],\n",
              "        [26, 27, 28, 29, 30]]),\n",
              " array([[21, 18, 20,  3, 30],\n",
              "        [24, 11,  5, 12, 26],\n",
              "        [ 6, 10,  8, 14,  2],\n",
              "        [22,  9, 15, 28,  4],\n",
              "        [17,  1, 25, 19, 23],\n",
              "        [29,  7, 27, 13, 16]]))"
            ]
          },
          "metadata": {},
          "execution_count": 29
        }
      ],
      "source": [
        "import numpy as np\n",
        "\n",
        "board_x = 5\n",
        "board_y = 6\n",
        "\n",
        "# Creating a 4x4 array with numbers 1 to 16 in order\n",
        "ordered_puzzle = np.arange(1, board_y*board_x+1).reshape(board_y, board_x)\n",
        "\n",
        "# Creating a 4x4 array with numbers 1 to 16 in random order\n",
        "random_puzzle = np.random.permutation(board_y*board_x) + 1\n",
        "random_puzzle = random_puzzle.reshape(board_y, board_x)\n",
        "\n",
        "ordered_puzzle, random_puzzle"
      ]
    },
    {
      "cell_type": "code",
      "source": [
        "from queue import Queue\n",
        "\n",
        "# Correcting the BFS function for a 5x6 board\n",
        "def bfs_with_obstacle_matrix_5x6(start, obstacle_matrix):\n",
        "    \"\"\" Perform BFS to calculate distances from a starting point on a 5x6 board, considering an obstacle matrix. \"\"\"\n",
        "    size_y, size_x = obstacle_matrix.shape  # Correcting the dimensions\n",
        "    distances = np.full((size_y, size_x), 99)  # Initialize with 99\n",
        "    q = Queue()\n",
        "\n",
        "    # Start from the given position\n",
        "    q.put(start)\n",
        "    distances[start] = 0\n",
        "\n",
        "    while not q.empty():\n",
        "        current = q.get()\n",
        "        current_distance = distances[current]\n",
        "\n",
        "        # Check all four directions\n",
        "        for dx, dy in [(-1, 0), (1, 0), (0, -1), (0, 1)]:\n",
        "            next_pos = (current[0] + dy, current[1] + dx)\n",
        "\n",
        "            if 0 <= next_pos[1] < size_x and 0 <= next_pos[0] < size_y and distances[next_pos] == 99 and obstacle_matrix[next_pos] == 0:\n",
        "                distances[next_pos] = current_distance + 1\n",
        "                q.put(next_pos)\n",
        "\n",
        "    return distances\n",
        "\n",
        "\n",
        "\n",
        "# Define the obstacle matrix for a 5x6 board (0 = no obstacle, 1 = obstacle)\n",
        "obstacle_matrix_5x6 = np.zeros((6, 5), dtype=int)\n",
        "obstacle_matrix_5x6[1, 0] = 1  # Set the obstacle at position (2, 1)\n",
        "obstacle_matrix_5x6[2, 1] = 1  # Set the obstacle at position (2, 1)\n",
        "obstacle_matrix_5x6[3, 1] = 1  # Set the obstacle at position (2, 1)\n",
        "\n",
        "print([bfs_with_obstacle_matrix_5x6((i // 5, i % 5), obstacle_matrix_5x6) for i in [0]][0])"
      ],
      "metadata": {
        "colab": {
          "base_uri": "https://localhost:8080/"
        },
        "id": "7ZmXbjoOUYQI",
        "outputId": "b8979890-4e5d-4aa7-9c4e-b211eac55ab1"
      },
      "execution_count": 22,
      "outputs": [
        {
          "output_type": "stream",
          "name": "stdout",
          "text": [
            "[[ 0  1  2  3  4]\n",
            " [99  2  3  4  5]\n",
            " [10 99  4  5  6]\n",
            " [ 9 99  5  6  7]\n",
            " [ 8  7  6  7  8]\n",
            " [ 9  8  7  8  9]]\n"
          ]
        }
      ]
    },
    {
      "cell_type": "code",
      "source": [
        "import copy\n",
        "print(random_puzzle)\n",
        "step_n = 2\n",
        "step_pos = tuple(np.argwhere(ordered_puzzle == step_n)[0])\n",
        "print(step_pos)\n",
        "tile_n = 2\n",
        "tile_pos = tuple(np.argwhere(random_puzzle == tile_n)[0])\n",
        "print(tile_pos)\n",
        "\n",
        "tile_cost = bfs_with_obstacle_matrix_5x6(step_pos, obstacle_matrix_5x6)\n",
        "print(tile_cost)\n",
        "\n",
        "print(tile_cost[tile_pos])\n",
        "for i in range(tile_cost[tile_pos]):\n",
        "  move_obstacle = copy.deepcopy(obstacle_matrix_5x6)\n",
        "  move_obstacle[tile_pos] = 99\n",
        "\n",
        "  move_cost = bfs_with_obstacle_matrix_5x6(move_pos, move_obstacle)\n",
        "  print(move_cost)\n",
        "\n",
        "  move_pos = tuple(np.argwhere(random_puzzle == board_y*board_x)[0])\n",
        "\n",
        "\n"
      ],
      "metadata": {
        "colab": {
          "base_uri": "https://localhost:8080/"
        },
        "id": "-oLwhXNvUnLh",
        "outputId": "912ae829-bbe1-4c65-9997-4d9129ff31fb"
      },
      "execution_count": 31,
      "outputs": [
        {
          "output_type": "stream",
          "name": "stdout",
          "text": [
            "[[21 18 20  3 30]\n",
            " [24 11  5 12 26]\n",
            " [ 6 10  8 14  2]\n",
            " [22  9 15 28  4]\n",
            " [17  1 25 19 23]\n",
            " [29  7 27 13 16]]\n",
            "(0, 1)\n",
            "(2, 4)\n",
            "[[ 1  0  1  2  3]\n",
            " [99  1  2  3  4]\n",
            " [ 9 99  3  4  5]\n",
            " [ 8 99  4  5  6]\n",
            " [ 7  6  5  6  7]\n",
            " [ 8  7  6  7  8]]\n",
            "5\n",
            "[[ 4  3  2  1  0]\n",
            " [99  4  3  2  1]\n",
            " [10 99  4  3 99]\n",
            " [ 9 99  5  4  5]\n",
            " [ 8  7  6  5  6]\n",
            " [ 9  8  7  6  7]]\n",
            "[[ 4  3  2  1  0]\n",
            " [99  4  3  2  1]\n",
            " [10 99  4  3 99]\n",
            " [ 9 99  5  4  5]\n",
            " [ 8  7  6  5  6]\n",
            " [ 9  8  7  6  7]]\n",
            "[[ 4  3  2  1  0]\n",
            " [99  4  3  2  1]\n",
            " [10 99  4  3 99]\n",
            " [ 9 99  5  4  5]\n",
            " [ 8  7  6  5  6]\n",
            " [ 9  8  7  6  7]]\n",
            "[[ 4  3  2  1  0]\n",
            " [99  4  3  2  1]\n",
            " [10 99  4  3 99]\n",
            " [ 9 99  5  4  5]\n",
            " [ 8  7  6  5  6]\n",
            " [ 9  8  7  6  7]]\n",
            "[[ 4  3  2  1  0]\n",
            " [99  4  3  2  1]\n",
            " [10 99  4  3 99]\n",
            " [ 9 99  5  4  5]\n",
            " [ 8  7  6  5  6]\n",
            " [ 9  8  7  6  7]]\n"
          ]
        }
      ]
    },
    {
      "cell_type": "code",
      "source": [],
      "metadata": {
        "id": "3TwY_e6PZFcL"
      },
      "execution_count": null,
      "outputs": []
    }
  ]
}