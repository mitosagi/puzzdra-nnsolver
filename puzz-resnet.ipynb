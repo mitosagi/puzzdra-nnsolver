{
  "metadata": {
    "kernelspec": {
      "language": "python",
      "display_name": "Python 3",
      "name": "python3"
    },
    "language_info": {
      "name": "python",
      "version": "3.10.12",
      "mimetype": "text/x-python",
      "codemirror_mode": {
        "name": "ipython",
        "version": 3
      },
      "pygments_lexer": "ipython3",
      "nbconvert_exporter": "python",
      "file_extension": ".py"
    },
    "colab": {
      "provenance": []
    }
  },
  "nbformat_minor": 0,
  "nbformat": 4,
  "cells": [
    {
      "cell_type": "markdown",
      "source": [
        "docker run -p 9000:8080 -p 6006:6006 asia-docker.pkg.dev/colab-images/public/runtime"
      ],
      "metadata": {
        "id": "dFK9SV8FkPcC"
      }
    },
    {
      "cell_type": "code",
      "source": [
        "# Initialize\n",
        "!git clone --recursive https://github.com/mitosagi/puzzdra-nnsolver\n",
        "# %cd /kaggle/working/puzzdra-nnsolver\n",
        "%cd /content/puzzdra-nnsolver\n",
        "!pip install --log=pip_log -e .\n",
        "!pip install torchsummary"
      ],
      "metadata": {
        "_uuid": "8f2839f25d086af736a60e9eeb907d3b93b6e0e5",
        "_cell_guid": "b1076dfc-b9ad-4769-8c92-a6c4dae69d19",
        "id": "84RFF9fTkEev",
        "outputId": "85229caa-836f-463b-b717-83774ab59237",
        "execution": {
          "iopub.status.busy": "2023-11-04T08:26:24.376137Z",
          "iopub.execute_input": "2023-11-04T08:26:24.376416Z",
          "iopub.status.idle": "2023-11-04T08:26:56.878147Z",
          "shell.execute_reply.started": "2023-11-04T08:26:24.376395Z",
          "shell.execute_reply": "2023-11-04T08:26:56.877385Z"
        },
        "trusted": true,
        "colab": {
          "base_uri": "https://localhost:8080/"
        }
      },
      "execution_count": 7,
      "outputs": [
        {
          "output_type": "stream",
          "name": "stdout",
          "text": [
            "fatal: destination path 'puzzdra-nnsolver' already exists and is not an empty directory.\n",
            "/content/puzzdra-nnsolver\n",
            "Obtaining file:///content/puzzdra-nnsolver\n",
            "  Preparing metadata (setup.py) ... \u001b[?25l\u001b[?25hdone\n",
            "Installing collected packages: Puzzpy\n",
            "  Attempting uninstall: Puzzpy\n",
            "    Found existing installation: Puzzpy 1.0\n",
            "    Uninstalling Puzzpy-1.0:\n",
            "      Successfully uninstalled Puzzpy-1.0\n",
            "  Running setup.py develop for Puzzpy\n",
            "Successfully installed Puzzpy-1.0\n",
            "Requirement already satisfied: torchsummary in /usr/local/lib/python3.10/dist-packages (1.5.1)\n"
          ]
        }
      ]
    },
    {
      "cell_type": "code",
      "source": [
        "import random\n",
        "import numpy as np\n",
        "from puzzpy import PuzzTable\n",
        "\n",
        "drop_color = 3\n",
        "board_width = 6\n",
        "board_height = 5\n",
        "\n",
        "class bcolors:\n",
        "    HEADER = '\\033[95m'\n",
        "    OKBLUE = '\\033[94m'\n",
        "    OKCYAN = '\\033[96m'\n",
        "    OKGREEN = '\\033[92m'\n",
        "    WARNING = '\\033[93m'\n",
        "    FAIL = '\\033[91m'\n",
        "    ENDC = '\\033[0m'\n",
        "    BOLD = '\\033[1m'\n",
        "    UNDERLINE = '\\033[4m'\n",
        "    BLACK = '\\033[30m'\n",
        "    RED = '\\033[31m'\n",
        "    GREEN = '\\033[32m'\n",
        "    YELLOW = '\\033[33m'\n",
        "    BLUE = '\\033[34m'\n",
        "    MAGENTA = '\\033[35m'\n",
        "    CYAN = '\\033[36m'\n",
        "\n",
        "def npUint8(array):\n",
        "    return np.array(array, dtype=np.uint8)\n",
        "\n",
        "def np_float(array):\n",
        "    return np.array(array, dtype=np.float32)\n",
        "\n",
        "class PuzzBoard():\n",
        "    def reset(self, finish = False):\n",
        "        self.prev_action = 255\n",
        "\n",
        "        while True:\n",
        "            self.table = PuzzTable(\"\".join([str(random.randrange(drop_color)) for i in range(board_width*board_height)]), random.randrange(board_width), random.randrange(board_height), 50) # n色陣　操作時間m秒\n",
        "            if self.table.eval_otoshi() == 0:\n",
        "                break\n",
        "\n",
        "        if finish:\n",
        "                matrix = npUint8([[7 , 19, 10, 22, 13, 25],\n",
        "                         [ 8, 20, 11, 23, 14, 26],\n",
        "                         [ 9, 21, 12, 24, 15, 27],\n",
        "                         [28, 29, 30, 4, 5, 6],\n",
        "                         [1, 2, 3, 16, 17, 18]]).ravel() - 1\n",
        "\n",
        "                arr = np.sort(npUint8([random.randrange(drop_color) for i in range(board_width*board_height)])).reshape([10, 3]).ravel()[matrix]\n",
        "                self.table = PuzzTable(\"\".join([str(n) for n in arr]), random.randrange(board_width), random.randrange(board_height), 50) # n色陣　操作時間m秒\n",
        "\n",
        "        return npUint8(self.table.get_table())\n",
        "\n",
        "    def step(self, peek = False, force_action = None, reverse=False):\n",
        "        next_tables = self.table.next_tables()\n",
        "        valid_actions = [action for action, table in enumerate(next_tables) if table.get_table()[0][0] != 127 and abs(action - self.prev_action) != 2]\n",
        "        if reverse and self.prev_action != 255:\n",
        "            action_matrix = [2, 3, 0, 1]\n",
        "            tmp_perv_action = action_matrix[self.prev_action]\n",
        "            self.prev_action = random.choice(valid_actions)\n",
        "            self.table = next_tables[self.prev_action]\n",
        "            return tmp_perv_action, npUint8([(npUint8(table.get_table()) if action in [(action if action != self.prev_action else tmp_perv_action)  for action in valid_actions] else np.zeros_like(npUint8(table.get_table()))) for action, table in enumerate(next_tables)])\n",
        "        else:\n",
        "            if not peek:\n",
        "                if force_action != None:\n",
        "                    if force_action in valid_actions:\n",
        "                        self.prev_action = force_action\n",
        "                    else:\n",
        "                        self.prev_action = random.choice(valid_actions)\n",
        "                else:\n",
        "                    self.prev_action = random.choice(valid_actions)\n",
        "                self.table = next_tables[self.prev_action]\n",
        "            return self.prev_action, npUint8([(npUint8(table.get_table()) if action in valid_actions else np.zeros_like(npUint8(table.get_table()))) for action, table in enumerate(next_tables)])\n",
        "    def render(self):\n",
        "        tcolor = [bcolors.RED, bcolors.BLUE, bcolors.GREEN, bcolors.MAGENTA, bcolors.YELLOW, bcolors.BLACK]\n",
        "        start = self.table.get_XY_as_table()\n",
        "        table = self.table.get_table()\n",
        "        for i in range(board_height):\n",
        "            for j in range(board_width):\n",
        "                if start[i][j] == 1:\n",
        "                    print(tcolor[table[i][j]-1]  +  bcolors.UNDERLINE + \"●\" + bcolors.ENDC, end='')\n",
        "                else:\n",
        "                    print(tcolor[table[i][j]-1]  + \"●\" + bcolors.ENDC, end='')\n",
        "            print('')"
      ],
      "metadata": {
        "id": "8nSDWSShkEex",
        "execution": {
          "iopub.status.busy": "2023-11-04T08:39:44.563913Z",
          "iopub.execute_input": "2023-11-04T08:39:44.564230Z",
          "iopub.status.idle": "2023-11-04T08:39:44.582087Z",
          "shell.execute_reply.started": "2023-11-04T08:39:44.564207Z",
          "shell.execute_reply": "2023-11-04T08:39:44.580783Z"
        },
        "trusted": true
      },
      "execution_count": 18,
      "outputs": []
    },
    {
      "cell_type": "code",
      "source": [
        "env = PuzzBoard()\n",
        "obs = env.reset(True)\n",
        "env.render()\n",
        "\n",
        "n_steps = 3\n",
        "\n",
        "for step in range(n_steps):\n",
        "    print(\"Step {}\".format(step + 1))\n",
        "    action, obs = env.step(reverse=True)\n",
        "    with np.printoptions(threshold=np.inf):\n",
        "        print(\"action: \", action)\n",
        "        print(obs)\n",
        "        env.render()"
      ],
      "metadata": {
        "id": "j-LdMczrkEex",
        "outputId": "ac59b725-ab83-4ede-de1c-4f6e0b819ee0",
        "execution": {
          "iopub.status.busy": "2023-11-04T08:39:45.738408Z",
          "iopub.execute_input": "2023-11-04T08:39:45.738721Z",
          "iopub.status.idle": "2023-11-04T08:39:45.748261Z",
          "shell.execute_reply.started": "2023-11-04T08:39:45.738697Z",
          "shell.execute_reply": "2023-11-04T08:39:45.746799Z"
        },
        "trusted": true,
        "colab": {
          "base_uri": "https://localhost:8080/"
        }
      },
      "execution_count": 19,
      "outputs": [
        {
          "output_type": "stream",
          "name": "stdout",
          "text": [
            "\u001b[31m●\u001b[0m\u001b[34m●\u001b[0m\u001b[34m●\u001b[0m\u001b[32m●\u001b[0m\u001b[34m●\u001b[0m\u001b[32m●\u001b[0m\n",
            "\u001b[31m●\u001b[0m\u001b[34m●\u001b[0m\u001b[34m●\u001b[0m\u001b[32m●\u001b[0m\u001b[34m●\u001b[0m\u001b[32m●\u001b[0m\n",
            "\u001b[34m●\u001b[0m\u001b[34m●\u001b[0m\u001b[34m●\u001b[0m\u001b[32m●\u001b[0m\u001b[34m●\u001b[0m\u001b[32m●\u001b[0m\n",
            "\u001b[32m●\u001b[0m\u001b[32m●\u001b[0m\u001b[32m●\u001b[0m\u001b[31m●\u001b[0m\u001b[31m●\u001b[0m\u001b[31m●\u001b[0m\n",
            "\u001b[31m●\u001b[0m\u001b[31m\u001b[4m●\u001b[0m\u001b[31m●\u001b[0m\u001b[34m●\u001b[0m\u001b[34m●\u001b[0m\u001b[34m●\u001b[0m\n",
            "Step 1\n",
            "action:  2\n",
            "[[[1 2 2 3 2 3]\n",
            "  [1 2 2 3 2 3]\n",
            "  [2 2 2 3 2 3]\n",
            "  [3 3 3 1 1 1]\n",
            "  [1 1 1 2 2 2]]\n",
            "\n",
            " [[0 0 0 0 0 0]\n",
            "  [0 0 0 0 0 0]\n",
            "  [0 0 0 0 0 0]\n",
            "  [0 0 0 0 0 0]\n",
            "  [0 0 0 0 0 0]]\n",
            "\n",
            " [[1 2 2 3 2 3]\n",
            "  [1 2 2 3 2 3]\n",
            "  [2 2 2 3 2 3]\n",
            "  [3 3 3 1 1 1]\n",
            "  [1 1 1 2 2 2]]\n",
            "\n",
            " [[1 2 2 3 2 3]\n",
            "  [1 2 2 3 2 3]\n",
            "  [2 2 2 3 2 3]\n",
            "  [3 1 3 1 1 1]\n",
            "  [1 3 1 2 2 2]]]\n",
            "\u001b[31m●\u001b[0m\u001b[34m●\u001b[0m\u001b[34m●\u001b[0m\u001b[32m●\u001b[0m\u001b[34m●\u001b[0m\u001b[32m●\u001b[0m\n",
            "\u001b[31m●\u001b[0m\u001b[34m●\u001b[0m\u001b[34m●\u001b[0m\u001b[32m●\u001b[0m\u001b[34m●\u001b[0m\u001b[32m●\u001b[0m\n",
            "\u001b[34m●\u001b[0m\u001b[34m●\u001b[0m\u001b[34m●\u001b[0m\u001b[32m●\u001b[0m\u001b[34m●\u001b[0m\u001b[32m●\u001b[0m\n",
            "\u001b[32m●\u001b[0m\u001b[32m●\u001b[0m\u001b[32m●\u001b[0m\u001b[31m●\u001b[0m\u001b[31m●\u001b[0m\u001b[31m●\u001b[0m\n",
            "\u001b[31m\u001b[4m●\u001b[0m\u001b[31m●\u001b[0m\u001b[31m●\u001b[0m\u001b[34m●\u001b[0m\u001b[34m●\u001b[0m\u001b[34m●\u001b[0m\n",
            "Step 2\n",
            "action:  0\n",
            "[[[1 2 2 3 2 3]\n",
            "  [1 2 2 3 2 3]\n",
            "  [2 2 2 3 2 3]\n",
            "  [3 3 3 1 1 1]\n",
            "  [1 1 1 2 2 2]]\n",
            "\n",
            " [[0 0 0 0 0 0]\n",
            "  [0 0 0 0 0 0]\n",
            "  [0 0 0 0 0 0]\n",
            "  [0 0 0 0 0 0]\n",
            "  [0 0 0 0 0 0]]\n",
            "\n",
            " [[0 0 0 0 0 0]\n",
            "  [0 0 0 0 0 0]\n",
            "  [0 0 0 0 0 0]\n",
            "  [0 0 0 0 0 0]\n",
            "  [0 0 0 0 0 0]]\n",
            "\n",
            " [[0 0 0 0 0 0]\n",
            "  [0 0 0 0 0 0]\n",
            "  [0 0 0 0 0 0]\n",
            "  [0 0 0 0 0 0]\n",
            "  [0 0 0 0 0 0]]]\n",
            "\u001b[31m●\u001b[0m\u001b[34m●\u001b[0m\u001b[34m●\u001b[0m\u001b[32m●\u001b[0m\u001b[34m●\u001b[0m\u001b[32m●\u001b[0m\n",
            "\u001b[31m●\u001b[0m\u001b[34m●\u001b[0m\u001b[34m●\u001b[0m\u001b[32m●\u001b[0m\u001b[34m●\u001b[0m\u001b[32m●\u001b[0m\n",
            "\u001b[34m●\u001b[0m\u001b[34m●\u001b[0m\u001b[34m●\u001b[0m\u001b[32m●\u001b[0m\u001b[34m●\u001b[0m\u001b[32m●\u001b[0m\n",
            "\u001b[31m\u001b[4m●\u001b[0m\u001b[32m●\u001b[0m\u001b[32m●\u001b[0m\u001b[31m●\u001b[0m\u001b[31m●\u001b[0m\u001b[31m●\u001b[0m\n",
            "\u001b[32m●\u001b[0m\u001b[31m●\u001b[0m\u001b[31m●\u001b[0m\u001b[34m●\u001b[0m\u001b[34m●\u001b[0m\u001b[34m●\u001b[0m\n",
            "Step 3\n",
            "action:  1\n",
            "[[[0 0 0 0 0 0]\n",
            "  [0 0 0 0 0 0]\n",
            "  [0 0 0 0 0 0]\n",
            "  [0 0 0 0 0 0]\n",
            "  [0 0 0 0 0 0]]\n",
            "\n",
            " [[1 2 2 3 2 3]\n",
            "  [1 2 2 3 2 3]\n",
            "  [2 2 2 3 2 3]\n",
            "  [3 3 3 1 1 1]\n",
            "  [1 1 1 2 2 2]]\n",
            "\n",
            " [[0 0 0 0 0 0]\n",
            "  [0 0 0 0 0 0]\n",
            "  [0 0 0 0 0 0]\n",
            "  [0 0 0 0 0 0]\n",
            "  [0 0 0 0 0 0]]\n",
            "\n",
            " [[1 2 2 3 2 3]\n",
            "  [1 2 2 3 2 3]\n",
            "  [1 2 2 3 2 3]\n",
            "  [2 3 3 1 1 1]\n",
            "  [3 1 1 2 2 2]]]\n",
            "\u001b[31m●\u001b[0m\u001b[34m●\u001b[0m\u001b[34m●\u001b[0m\u001b[32m●\u001b[0m\u001b[34m●\u001b[0m\u001b[32m●\u001b[0m\n",
            "\u001b[31m●\u001b[0m\u001b[34m●\u001b[0m\u001b[34m●\u001b[0m\u001b[32m●\u001b[0m\u001b[34m●\u001b[0m\u001b[32m●\u001b[0m\n",
            "\u001b[34m●\u001b[0m\u001b[34m●\u001b[0m\u001b[34m●\u001b[0m\u001b[32m●\u001b[0m\u001b[34m●\u001b[0m\u001b[32m●\u001b[0m\n",
            "\u001b[32m●\u001b[0m\u001b[31m\u001b[4m●\u001b[0m\u001b[32m●\u001b[0m\u001b[31m●\u001b[0m\u001b[31m●\u001b[0m\u001b[31m●\u001b[0m\n",
            "\u001b[32m●\u001b[0m\u001b[31m●\u001b[0m\u001b[31m●\u001b[0m\u001b[34m●\u001b[0m\u001b[34m●\u001b[0m\u001b[34m●\u001b[0m\n"
          ]
        }
      ]
    },
    {
      "cell_type": "code",
      "source": [
        "def make_data(num_step, env):\n",
        "    end = env.reset(True)\n",
        "\n",
        "    sample_step = random.randrange(2, num_step)\n",
        "\n",
        "    for i in range(sample_step):\n",
        "        answer, obs = env.step(reverse=True)\n",
        "    sample_obs = obs\n",
        "    sample_answer = answer\n",
        "\n",
        "    for i in range(num_step - sample_step):\n",
        "        answer, obs = env.step(reverse=True)\n",
        "    start = obs[answer]\n",
        "\n",
        "    return np.concatenate([npUint8([start]),sample_obs,npUint8([end])]), sample_answer\n",
        "def make_data_fast(length):\n",
        "    env = PuzzBoard()\n",
        "    return [make_data(50, env) for i in range(length)]\n",
        "\n",
        "from multiprocessing import Pool\n",
        "process = 10\n",
        "p = Pool(process)\n",
        "%time result = p.map(make_data_fast, [1_000_000 // process  for i in range(process)]) # 100万データ生成に5分22秒かかる\n",
        "\n",
        "import itertools\n",
        "sample_data = npUint8([sample[0] for sample in itertools.chain(*result)])\n",
        "sample_labels = npUint8([sample[1] for sample in itertools.chain(*result)])\n",
        "np.save('sample_data_50', sample_data)\n",
        "np.save('sample_labels_50', sample_labels)"
      ],
      "metadata": {
        "id": "HO8nP6WCkEex",
        "outputId": "5a51d76f-2a1e-4762-ed79-bb61e52d5632",
        "execution": {
          "iopub.status.busy": "2023-11-04T06:58:42.289949Z",
          "iopub.execute_input": "2023-11-04T06:58:42.290327Z",
          "iopub.status.idle": "2023-11-04T06:58:42.298748Z",
          "shell.execute_reply.started": "2023-11-04T06:58:42.290290Z",
          "shell.execute_reply": "2023-11-04T06:58:42.297826Z"
        },
        "trusted": true,
        "colab": {
          "base_uri": "https://localhost:8080/"
        }
      },
      "execution_count": 21,
      "outputs": [
        {
          "output_type": "stream",
          "name": "stdout",
          "text": [
            "CPU times: user 3.55 s, sys: 1.08 s, total: 4.63 s\n",
            "Wall time: 6min 7s\n"
          ]
        }
      ]
    },
    {
      "cell_type": "code",
      "source": [
        "sample_data = np.load('/kaggle/input/puzz-data-50/sample_data_50.npy')\n",
        "sample_labels = np.load('/kaggle/input/puzz-data-50/sample_labels_50.npy')\n",
        "from torch.utils.data import Dataset\n",
        "class PuzzDataSet(Dataset):\n",
        "    def __init__(self, x, y):\n",
        "        self.data = np.array(x, dtype=np.float32)\n",
        "        self.labels = np.array(np.identity(4)[y], dtype=np.float32) # 4 for actions\n",
        "\n",
        "    def __len__(self):\n",
        "        return len(self.labels)\n",
        "\n",
        "    def __getitem__(self, idx):\n",
        "        return self.data[idx], self.labels[idx]\n",
        "\n",
        "dataset = PuzzDataSet(sample_data[0:len(sample_data) - 1_000],sample_labels[0:len(sample_labels) - 1_000])\n",
        "print(\"dataset: \", dataset.__len__())\n",
        "print(\"dataset: \", dataset.__getitem__(6))\n",
        "testset = PuzzDataSet(sample_data[len(sample_data) - 1_000:],sample_labels[len(sample_labels) - 1_000:])\n",
        "print(\"testset: \", testset.__len__())"
      ],
      "metadata": {
        "id": "d1V18BD9kEey",
        "outputId": "8cd24beb-e5a6-489b-cea6-495ec6480041",
        "execution": {
          "iopub.status.busy": "2023-11-04T06:58:42.300060Z",
          "iopub.execute_input": "2023-11-04T06:58:42.300426Z",
          "iopub.status.idle": "2023-11-04T06:58:46.274216Z",
          "shell.execute_reply.started": "2023-11-04T06:58:42.300392Z",
          "shell.execute_reply": "2023-11-04T06:58:46.273175Z"
        },
        "trusted": true,
        "colab": {
          "base_uri": "https://localhost:8080/",
          "height": 371
        }
      },
      "execution_count": 22,
      "outputs": [
        {
          "output_type": "error",
          "ename": "FileNotFoundError",
          "evalue": "ignored",
          "traceback": [
            "\u001b[0;31m---------------------------------------------------------------------------\u001b[0m",
            "\u001b[0;31mFileNotFoundError\u001b[0m                         Traceback (most recent call last)",
            "\u001b[0;32m<ipython-input-22-1602e1e16675>\u001b[0m in \u001b[0;36m<cell line: 1>\u001b[0;34m()\u001b[0m\n\u001b[0;32m----> 1\u001b[0;31m \u001b[0msample_data\u001b[0m \u001b[0;34m=\u001b[0m \u001b[0mnp\u001b[0m\u001b[0;34m.\u001b[0m\u001b[0mload\u001b[0m\u001b[0;34m(\u001b[0m\u001b[0;34m'/kaggle/input/puzz-data-50/sample_data_50.npy'\u001b[0m\u001b[0;34m)\u001b[0m\u001b[0;34m\u001b[0m\u001b[0;34m\u001b[0m\u001b[0m\n\u001b[0m\u001b[1;32m      2\u001b[0m \u001b[0msample_labels\u001b[0m \u001b[0;34m=\u001b[0m \u001b[0mnp\u001b[0m\u001b[0;34m.\u001b[0m\u001b[0mload\u001b[0m\u001b[0;34m(\u001b[0m\u001b[0;34m'/kaggle/input/puzz-data-50/sample_labels_50.npy'\u001b[0m\u001b[0;34m)\u001b[0m\u001b[0;34m\u001b[0m\u001b[0;34m\u001b[0m\u001b[0m\n\u001b[1;32m      3\u001b[0m \u001b[0;32mfrom\u001b[0m \u001b[0mtorch\u001b[0m\u001b[0;34m.\u001b[0m\u001b[0mutils\u001b[0m\u001b[0;34m.\u001b[0m\u001b[0mdata\u001b[0m \u001b[0;32mimport\u001b[0m \u001b[0mDataset\u001b[0m\u001b[0;34m\u001b[0m\u001b[0;34m\u001b[0m\u001b[0m\n\u001b[1;32m      4\u001b[0m \u001b[0;32mclass\u001b[0m \u001b[0mPuzzDataSet\u001b[0m\u001b[0;34m(\u001b[0m\u001b[0mDataset\u001b[0m\u001b[0;34m)\u001b[0m\u001b[0;34m:\u001b[0m\u001b[0;34m\u001b[0m\u001b[0;34m\u001b[0m\u001b[0m\n\u001b[1;32m      5\u001b[0m     \u001b[0;32mdef\u001b[0m \u001b[0m__init__\u001b[0m\u001b[0;34m(\u001b[0m\u001b[0mself\u001b[0m\u001b[0;34m,\u001b[0m \u001b[0mx\u001b[0m\u001b[0;34m,\u001b[0m \u001b[0my\u001b[0m\u001b[0;34m)\u001b[0m\u001b[0;34m:\u001b[0m\u001b[0;34m\u001b[0m\u001b[0;34m\u001b[0m\u001b[0m\n",
            "\u001b[0;32m/usr/local/lib/python3.10/dist-packages/numpy/lib/npyio.py\u001b[0m in \u001b[0;36mload\u001b[0;34m(file, mmap_mode, allow_pickle, fix_imports, encoding, max_header_size)\u001b[0m\n\u001b[1;32m    403\u001b[0m             \u001b[0mown_fid\u001b[0m \u001b[0;34m=\u001b[0m \u001b[0;32mFalse\u001b[0m\u001b[0;34m\u001b[0m\u001b[0;34m\u001b[0m\u001b[0m\n\u001b[1;32m    404\u001b[0m         \u001b[0;32melse\u001b[0m\u001b[0;34m:\u001b[0m\u001b[0;34m\u001b[0m\u001b[0;34m\u001b[0m\u001b[0m\n\u001b[0;32m--> 405\u001b[0;31m             \u001b[0mfid\u001b[0m \u001b[0;34m=\u001b[0m \u001b[0mstack\u001b[0m\u001b[0;34m.\u001b[0m\u001b[0menter_context\u001b[0m\u001b[0;34m(\u001b[0m\u001b[0mopen\u001b[0m\u001b[0;34m(\u001b[0m\u001b[0mos_fspath\u001b[0m\u001b[0;34m(\u001b[0m\u001b[0mfile\u001b[0m\u001b[0;34m)\u001b[0m\u001b[0;34m,\u001b[0m \u001b[0;34m\"rb\"\u001b[0m\u001b[0;34m)\u001b[0m\u001b[0;34m)\u001b[0m\u001b[0;34m\u001b[0m\u001b[0;34m\u001b[0m\u001b[0m\n\u001b[0m\u001b[1;32m    406\u001b[0m             \u001b[0mown_fid\u001b[0m \u001b[0;34m=\u001b[0m \u001b[0;32mTrue\u001b[0m\u001b[0;34m\u001b[0m\u001b[0;34m\u001b[0m\u001b[0m\n\u001b[1;32m    407\u001b[0m \u001b[0;34m\u001b[0m\u001b[0m\n",
            "\u001b[0;31mFileNotFoundError\u001b[0m: [Errno 2] No such file or directory: '/kaggle/input/puzz-data-50/sample_data_50.npy'"
          ]
        }
      ]
    },
    {
      "cell_type": "code",
      "source": [
        "import torch\n",
        "import torch.nn as nn\n",
        "import torch.nn.functional as F\n",
        "import torch.optim as optim\n",
        "from torchsummary import summary\n",
        "from torchvision.models import resnet18, resnet34, resnet50, resnext50_32x4d\n",
        "\n",
        "class Net(nn.Module):\n",
        "    def __init__(self):\n",
        "        super(Net, self).__init__()\n",
        "        num_input_channel = 6\n",
        "        num_classes = 4\n",
        "        resnet = resnet34()\n",
        "        resnet.conv1 = nn.Conv2d(num_input_channel, 64, kernel_size=7, stride=2, padding=3,bias=False)\n",
        "        resnet.fc = nn.Linear(512, num_classes) # resnet18 or 34\n",
        "#         resnet.fc = nn.Linear(2048, num_classes) # resnet50\n",
        "        self.resnet = resnet\n",
        "    def forward(self, x):\n",
        "        x = F.interpolate(x, size=None, scale_factor=2, mode='nearest')\n",
        "        x = self.resnet(x)\n",
        "        return x\n",
        "\n",
        "model = Net()\n",
        "# for i, param in enumerate(model.parameters()):\n",
        "#     param.requires_grad = True if i >= 0 else False\n",
        "# #     param.requires_grad = True if i >= 45 else False\n",
        "#     print(len(param), param.requires_grad)\n",
        "\n",
        "device = torch.device('cuda') if torch.cuda.is_available() else torch.device('cpu')\n",
        "print(\"device: \", device)\n",
        "model = model.to(device)\n",
        "# print(summary(model, (6, 5, 6)))\n",
        "\n",
        "train_loader = torch.utils.data.DataLoader(dataset, batch_size=200, shuffle=True)\n",
        "test_loader = torch.utils.data.DataLoader(testset, batch_size=200, shuffle=True)\n",
        "\n",
        "criterion = nn.CrossEntropyLoss()\n",
        "# optimizer = optim.SGD(model.parameters(), lr=0.01)\n",
        "# optimizer = optim.SGD(model.parameters(), lr=0.01,\n",
        "#                       momentum=0.9, weight_decay=0.0001)\n",
        "optimizer = optim.Adam(model.parameters())\n",
        "\n",
        "from torch.utils.tensorboard import SummaryWriter\n",
        "writer = SummaryWriter()\n",
        "\n",
        "import datetime\n",
        "\n",
        "def train(epoch):\n",
        "    total_loss = 0\n",
        "    total_size = 0\n",
        "    model.train()\n",
        "    for batch_idx, (data, target) in enumerate(train_loader):\n",
        "        data, target = data.to(device), target.to(device)\n",
        "        optimizer.zero_grad()\n",
        "        output = model(data)\n",
        "        loss = criterion(output, target)\n",
        "        total_loss += loss.item()\n",
        "        total_size += data.size(0)\n",
        "        loss.backward()\n",
        "        optimizer.step()\n",
        "        if batch_idx % 100 == 0:\n",
        "            now = datetime.datetime.now()\n",
        "            print('[{}] Train Epoch: {} [{}/{} ({:.0f}%)]\\tAverage loss: {:.6f}'.format(\n",
        "                now,\n",
        "                epoch, batch_idx * len(data), len(train_loader.dataset),\n",
        "                100. * batch_idx / len(train_loader), total_loss / total_size))\n",
        "            writer.add_scalar('Loss/train', total_loss / total_size, epoch)\n",
        "def test(epoch):\n",
        "    total_loss = 0\n",
        "    total_size = 0\n",
        "    model.eval()\n",
        "    for batch_idx, (data, target) in enumerate(test_loader):\n",
        "        data, target = data.to(device), target.to(device)\n",
        "        output = model(data)\n",
        "        loss = criterion(output, target)\n",
        "        total_loss += loss.item()\n",
        "        total_size += data.size(0)\n",
        "        if batch_idx % 100 == 0:\n",
        "            now = datetime.datetime.now()\n",
        "            print('[{}] Test Epoch: {} [{}/{} ({:.0f}%)]\\tAverage loss: {:.6f}'.format(\n",
        "                now,\n",
        "                epoch, batch_idx * len(data), len(test_loader.dataset),\n",
        "                100. * batch_idx / len(test_loader), total_loss / total_size))\n",
        "            writer.add_scalar('Loss/test', total_loss / total_size, epoch)\n",
        "            break\n",
        "\n",
        "for epoch in range(1, 10 + 1):\n",
        "    train(epoch)\n",
        "    test(epoch)"
      ],
      "metadata": {
        "id": "JyXo_fAOkEey",
        "outputId": "f789fc07-ffbb-4cdf-89ba-bc38d386830d",
        "execution": {
          "iopub.status.busy": "2023-11-04T07:22:06.521881Z",
          "iopub.execute_input": "2023-11-04T07:22:06.522247Z",
          "iopub.status.idle": "2023-11-04T07:32:40.985855Z",
          "shell.execute_reply.started": "2023-11-04T07:22:06.522219Z",
          "shell.execute_reply": "2023-11-04T07:32:40.984586Z"
        },
        "trusted": true
      },
      "execution_count": null,
      "outputs": [
        {
          "name": "stdout",
          "text": "device:  cuda\n[2023-11-04 07:22:06.995003] Train Epoch: 1 [0/999000 (0%)]\tAverage loss: 0.008436\n[2023-11-04 07:22:24.629632] Train Epoch: 1 [20000/999000 (2%)]\tAverage loss: 0.004815\n[2023-11-04 07:22:42.276486] Train Epoch: 1 [40000/999000 (4%)]\tAverage loss: 0.004574\n[2023-11-04 07:22:59.929637] Train Epoch: 1 [60000/999000 (6%)]\tAverage loss: 0.004475\n[2023-11-04 07:23:17.587239] Train Epoch: 1 [80000/999000 (8%)]\tAverage loss: 0.004434\n[2023-11-04 07:23:35.252135] Train Epoch: 1 [100000/999000 (10%)]\tAverage loss: 0.004403\n[2023-11-04 07:23:52.915320] Train Epoch: 1 [120000/999000 (12%)]\tAverage loss: 0.004377\n[2023-11-04 07:24:10.553729] Train Epoch: 1 [140000/999000 (14%)]\tAverage loss: 0.004356\n[2023-11-04 07:24:28.207295] Train Epoch: 1 [160000/999000 (16%)]\tAverage loss: 0.004344\n[2023-11-04 07:24:45.892123] Train Epoch: 1 [180000/999000 (18%)]\tAverage loss: 0.004333\n[2023-11-04 07:25:03.577065] Train Epoch: 1 [200000/999000 (20%)]\tAverage loss: 0.004328\n[2023-11-04 07:25:21.249980] Train Epoch: 1 [220000/999000 (22%)]\tAverage loss: 0.004323\n[2023-11-04 07:25:38.926940] Train Epoch: 1 [240000/999000 (24%)]\tAverage loss: 0.004327\n[2023-11-04 07:25:56.620475] Train Epoch: 1 [260000/999000 (26%)]\tAverage loss: 0.004324\n[2023-11-04 07:26:14.305432] Train Epoch: 1 [280000/999000 (28%)]\tAverage loss: 0.004320\n[2023-11-04 07:26:31.998435] Train Epoch: 1 [300000/999000 (30%)]\tAverage loss: 0.004316\n[2023-11-04 07:26:49.686604] Train Epoch: 1 [320000/999000 (32%)]\tAverage loss: 0.004315\n[2023-11-04 07:27:07.373242] Train Epoch: 1 [340000/999000 (34%)]\tAverage loss: 0.004311\n[2023-11-04 07:27:25.061091] Train Epoch: 1 [360000/999000 (36%)]\tAverage loss: 0.004308\n[2023-11-04 07:27:42.757858] Train Epoch: 1 [380000/999000 (38%)]\tAverage loss: 0.004304\n[2023-11-04 07:28:00.442646] Train Epoch: 1 [400000/999000 (40%)]\tAverage loss: 0.004300\n[2023-11-04 07:28:18.132082] Train Epoch: 1 [420000/999000 (42%)]\tAverage loss: 0.004302\n[2023-11-04 07:28:35.819388] Train Epoch: 1 [440000/999000 (44%)]\tAverage loss: 0.004300\n[2023-11-04 07:28:53.499618] Train Epoch: 1 [460000/999000 (46%)]\tAverage loss: 0.004297\n[2023-11-04 07:29:11.180947] Train Epoch: 1 [480000/999000 (48%)]\tAverage loss: 0.004295\n[2023-11-04 07:29:28.852427] Train Epoch: 1 [500000/999000 (50%)]\tAverage loss: 0.004295\n[2023-11-04 07:29:46.490734] Train Epoch: 1 [520000/999000 (52%)]\tAverage loss: 0.004295\n[2023-11-04 07:30:04.134898] Train Epoch: 1 [540000/999000 (54%)]\tAverage loss: 0.004293\n[2023-11-04 07:30:21.782274] Train Epoch: 1 [560000/999000 (56%)]\tAverage loss: 0.004296\n[2023-11-04 07:30:39.424187] Train Epoch: 1 [580000/999000 (58%)]\tAverage loss: 0.004293\n[2023-11-04 07:30:57.049462] Train Epoch: 1 [600000/999000 (60%)]\tAverage loss: 0.004292\n[2023-11-04 07:31:14.682067] Train Epoch: 1 [620000/999000 (62%)]\tAverage loss: 0.004290\n[2023-11-04 07:31:32.321587] Train Epoch: 1 [640000/999000 (64%)]\tAverage loss: 0.004288\n[2023-11-04 07:31:49.953899] Train Epoch: 1 [660000/999000 (66%)]\tAverage loss: 0.004286\n[2023-11-04 07:32:07.585645] Train Epoch: 1 [680000/999000 (68%)]\tAverage loss: 0.004285\n[2023-11-04 07:32:25.220471] Train Epoch: 1 [700000/999000 (70%)]\tAverage loss: 0.004283\n",
          "output_type": "stream"
        },
        {
          "traceback": [
            "\u001b[0;31m---------------------------------------------------------------------------\u001b[0m",
            "\u001b[0;31mKeyboardInterrupt\u001b[0m                         Traceback (most recent call last)",
            "Cell \u001b[0;32mIn[17], line 88\u001b[0m\n\u001b[1;32m     85\u001b[0m             \u001b[38;5;28;01mbreak\u001b[39;00m\n\u001b[1;32m     87\u001b[0m \u001b[38;5;28;01mfor\u001b[39;00m epoch \u001b[38;5;129;01min\u001b[39;00m \u001b[38;5;28mrange\u001b[39m(\u001b[38;5;241m1\u001b[39m, \u001b[38;5;241m10\u001b[39m \u001b[38;5;241m+\u001b[39m \u001b[38;5;241m1\u001b[39m):\n\u001b[0;32m---> 88\u001b[0m     \u001b[43mtrain\u001b[49m\u001b[43m(\u001b[49m\u001b[43mepoch\u001b[49m\u001b[43m)\u001b[49m\n\u001b[1;32m     89\u001b[0m     test(epoch)\n",
            "Cell \u001b[0;32mIn[17], line 53\u001b[0m, in \u001b[0;36mtrain\u001b[0;34m(epoch)\u001b[0m\n\u001b[1;32m     51\u001b[0m model\u001b[38;5;241m.\u001b[39mtrain()\n\u001b[1;32m     52\u001b[0m \u001b[38;5;28;01mfor\u001b[39;00m batch_idx, (data, target) \u001b[38;5;129;01min\u001b[39;00m \u001b[38;5;28menumerate\u001b[39m(train_loader):\n\u001b[0;32m---> 53\u001b[0m     data, target \u001b[38;5;241m=\u001b[39m \u001b[43mdata\u001b[49m\u001b[38;5;241;43m.\u001b[39;49m\u001b[43mto\u001b[49m\u001b[43m(\u001b[49m\u001b[43mdevice\u001b[49m\u001b[43m)\u001b[49m, target\u001b[38;5;241m.\u001b[39mto(device)\n\u001b[1;32m     54\u001b[0m     optimizer\u001b[38;5;241m.\u001b[39mzero_grad()\n\u001b[1;32m     55\u001b[0m     output \u001b[38;5;241m=\u001b[39m model(data)\n",
            "\u001b[0;31mKeyboardInterrupt\u001b[0m: "
          ],
          "ename": "KeyboardInterrupt",
          "evalue": "",
          "output_type": "error"
        }
      ]
    },
    {
      "cell_type": "code",
      "source": [
        "torch.save(model, 'model_puzz_ressnet.pth')"
      ],
      "metadata": {
        "execution": {
          "iopub.status.busy": "2023-11-04T07:32:43.678074Z",
          "iopub.execute_input": "2023-11-04T07:32:43.678435Z",
          "iopub.status.idle": "2023-11-04T07:32:43.817624Z",
          "shell.execute_reply.started": "2023-11-04T07:32:43.678406Z",
          "shell.execute_reply": "2023-11-04T07:32:43.816813Z"
        },
        "trusted": true,
        "id": "M9jgIDCafcTb"
      },
      "execution_count": null,
      "outputs": []
    },
    {
      "cell_type": "code",
      "source": [
        "model = torch.load('/kaggle/input/puzz-resnet-weight/model_puzz_ressnet.pth', map_location=torch.device('cpu'))"
      ],
      "metadata": {
        "execution": {
          "iopub.status.busy": "2023-11-04T01:11:08.396357Z",
          "iopub.execute_input": "2023-11-04T01:11:08.396773Z",
          "iopub.status.idle": "2023-11-04T01:11:08.837344Z",
          "shell.execute_reply.started": "2023-11-04T01:11:08.396742Z",
          "shell.execute_reply": "2023-11-04T01:11:08.836039Z"
        },
        "trusted": true,
        "id": "aQLxwe-jfcTb"
      },
      "execution_count": null,
      "outputs": []
    },
    {
      "cell_type": "code",
      "source": [
        "from scipy.special import softmax\n",
        "model.eval()\n",
        "\n",
        "infer_board = PuzzBoard()\n",
        "tmp_board = infer_board.reset().ravel()\n",
        "start = tmp_board.reshape([5,6])\n",
        "end = np.sort(tmp_board).reshape([5,6])\n",
        "print(start)\n",
        "print(end)\n",
        "infer_board.render()\n",
        "for i in range(100):\n",
        "\n",
        "    data = np_float([np_float(np.concatenate([npUint8([start]),infer_board.step(peek=True)[1],npUint8([end])]))])\n",
        "    action = model(torch.from_numpy(data).to(device)).tolist()[0]\n",
        "    np.set_printoptions(suppress=True, precision=2, floatmode=\"fixed\")\n",
        "#     print(softmax(action))\n",
        "    print(action.index(max(action)))\n",
        "    infer_board.step(force_action = action.index(max(action)))\n",
        "\n",
        "print(\"step: \", i)\n",
        "infer_board.render()"
      ],
      "metadata": {
        "id": "JcpS0jdVkEey",
        "execution": {
          "iopub.status.busy": "2023-11-04T07:48:35.916585Z",
          "iopub.execute_input": "2023-11-04T07:48:35.917508Z",
          "iopub.status.idle": "2023-11-04T07:48:36.509280Z",
          "shell.execute_reply.started": "2023-11-04T07:48:35.917468Z",
          "shell.execute_reply": "2023-11-04T07:48:36.508229Z"
        },
        "trusted": true,
        "outputId": "3844a6cf-480f-43c2-8a8b-6e5287c90f2f"
      },
      "execution_count": null,
      "outputs": [
        {
          "name": "stdout",
          "text": "[[2 1 2 3 2 2]\n [3 3 1 1 2 1]\n [2 3 3 2 1 2]\n [3 1 3 3 2 3]\n [3 2 1 1 2 2]]\n[[1 1 1 1 1 1]\n [1 1 2 2 2 2]\n [2 2 2 2 2 2]\n [2 2 3 3 3 3]\n [3 3 3 3 3 3]]\n\u001b[34m●\u001b[0m\u001b[31m●\u001b[0m\u001b[34m●\u001b[0m\u001b[32m●\u001b[0m\u001b[34m●\u001b[0m\u001b[34m●\u001b[0m\n\u001b[32m●\u001b[0m\u001b[32m●\u001b[0m\u001b[31m●\u001b[0m\u001b[31m●\u001b[0m\u001b[34m●\u001b[0m\u001b[31m●\u001b[0m\n\u001b[34m●\u001b[0m\u001b[32m●\u001b[0m\u001b[32m●\u001b[0m\u001b[34m●\u001b[0m\u001b[31m●\u001b[0m\u001b[34m●\u001b[0m\n\u001b[32m●\u001b[0m\u001b[31m●\u001b[0m\u001b[32m●\u001b[0m\u001b[32m●\u001b[0m\u001b[34m●\u001b[0m\u001b[32m●\u001b[0m\n\u001b[32m●\u001b[0m\u001b[34m\u001b[4m●\u001b[0m\u001b[31m●\u001b[0m\u001b[31m●\u001b[0m\u001b[34m●\u001b[0m\u001b[34m●\u001b[0m\n0\n3\n0\n3\n0\n3\n0\n3\n2\n1\n0\n3\n2\n1\n0\n3\n2\n1\n0\n3\n2\n1\n0\n3\n2\n1\n0\n3\n2\n1\n0\n3\n2\n1\n0\n3\n2\n1\n0\n3\n2\n1\n0\n3\n2\n1\n0\n3\n2\n1\n0\n3\n2\n1\n0\n3\n2\n1\n0\n3\n2\n1\n0\n3\n2\n1\n0\n3\n2\n1\n0\n3\n2\n1\n0\n3\n2\n1\n0\n3\n2\n1\n0\n3\n2\n1\n0\n3\n2\n1\n0\n3\n2\n1\n0\n3\n2\n1\n0\n3\nstep:  99\n\u001b[34m●\u001b[0m\u001b[31m●\u001b[0m\u001b[34m●\u001b[0m\u001b[32m●\u001b[0m\u001b[34m●\u001b[0m\u001b[34m\u001b[4m●\u001b[0m\n\u001b[32m●\u001b[0m\u001b[32m●\u001b[0m\u001b[31m●\u001b[0m\u001b[31m●\u001b[0m\u001b[34m●\u001b[0m\u001b[31m●\u001b[0m\n\u001b[34m●\u001b[0m\u001b[32m●\u001b[0m\u001b[32m●\u001b[0m\u001b[31m●\u001b[0m\u001b[34m●\u001b[0m\u001b[34m●\u001b[0m\n\u001b[32m●\u001b[0m\u001b[31m●\u001b[0m\u001b[32m●\u001b[0m\u001b[34m●\u001b[0m\u001b[34m●\u001b[0m\u001b[32m●\u001b[0m\n\u001b[32m●\u001b[0m\u001b[31m●\u001b[0m\u001b[32m●\u001b[0m\u001b[31m●\u001b[0m\u001b[34m●\u001b[0m\u001b[34m●\u001b[0m\n",
          "output_type": "stream"
        }
      ]
    },
    {
      "cell_type": "code",
      "source": [],
      "metadata": {
        "id": "3gEB-_MTfcTb"
      },
      "execution_count": null,
      "outputs": []
    }
  ]
}